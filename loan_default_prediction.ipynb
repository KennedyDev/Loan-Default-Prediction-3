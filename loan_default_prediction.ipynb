{
 "cells": [
  {
   "cell_type": "markdown",
   "metadata": {},
   "source": [
    "# Machine Learning Engineer Nanodegree\n",
    "\n",
    "# Capstone: Predicting Loan Defaults In Peer-To-Peer Lending\n",
    "\n",
    "## I. Getting Started\n",
    "In this project, we will analyze a dataset containing data on potential borrowers. The goal of this project is to build a model predicting the loan default of potential borrowers. \n",
    "\n",
    "The dataset for this project can be found on [Lending Club](https://www.lendingclub.com/info/download-data.action).\n",
    "\n",
    "Run the code block below to load the wholesale customers dataset, along with a few of the necessary Python libraries required for this project. You will know the dataset loaded successfully if the size of the dataset is reported.\n"
   ]
  },
  {
   "cell_type": "code",
   "execution_count": 1,
   "metadata": {
    "collapsed": false
   },
   "outputs": [
    {
     "name": "stdout",
     "output_type": "stream",
     "text": [
      "The loan dataset has 42538 samples with 111 features.\n"
     ]
    }
   ],
   "source": [
    "# Import libraries necessary for this project\n",
    "import numpy as np\n",
    "import pandas as pd\n",
    "import matplotlib.pyplot as plt\n",
    "from IPython.display import display # Allows the use of display() for DataFrames\n",
    "\n",
    "# Pretty display for notebooks\n",
    "%matplotlib inline\n",
    "plt.style.use('fivethirtyeight')\n",
    "\n",
    "# Load the accepted loan dataset \n",
    "# low_memory and skiprows in read_csv because the file is large and it leads to the Lending Club website\n",
    "try:\n",
    "    loan_data = pd.read_csv(\"LoanStats3a.csv\", low_memory = False, skiprows = 1)\n",
    "    print(\"The loan dataset has {} samples with {} features.\".format(*loan_data.shape))\n",
    "except:\n",
    "    print(\"The loan dataset could not be loaded. Is the dataset missing?\")"
   ]
  },
  {
   "cell_type": "markdown",
   "metadata": {},
   "source": [
    "## Introduction To The Data\n",
    "\n",
    "The dictionary data file is provided with the project in order to refer to it later in our data exploration. This contains information about the various columns and will be useful when we clean up the dataset. The data being used is the data from 2007 to 2011 mostly because when can be almost certain that all the loans have been either repaid or defaulted upon. Let's dive in."
   ]
  },
  {
   "cell_type": "code",
   "execution_count": 2,
   "metadata": {
    "collapsed": false
   },
   "outputs": [
    {
     "data": {
      "text/html": [
       "<div>\n",
       "<table border=\"1\" class=\"dataframe\">\n",
       "  <thead>\n",
       "    <tr style=\"text-align: right;\">\n",
       "      <th></th>\n",
       "      <th>id</th>\n",
       "      <th>member_id</th>\n",
       "      <th>loan_amnt</th>\n",
       "      <th>funded_amnt</th>\n",
       "      <th>funded_amnt_inv</th>\n",
       "      <th>term</th>\n",
       "      <th>int_rate</th>\n",
       "      <th>installment</th>\n",
       "      <th>grade</th>\n",
       "      <th>sub_grade</th>\n",
       "      <th>...</th>\n",
       "      <th>num_tl_90g_dpd_24m</th>\n",
       "      <th>num_tl_op_past_12m</th>\n",
       "      <th>pct_tl_nvr_dlq</th>\n",
       "      <th>percent_bc_gt_75</th>\n",
       "      <th>pub_rec_bankruptcies</th>\n",
       "      <th>tax_liens</th>\n",
       "      <th>tot_hi_cred_lim</th>\n",
       "      <th>total_bal_ex_mort</th>\n",
       "      <th>total_bc_limit</th>\n",
       "      <th>total_il_high_credit_limit</th>\n",
       "    </tr>\n",
       "  </thead>\n",
       "  <tbody>\n",
       "    <tr>\n",
       "      <th>0</th>\n",
       "      <td>1077501</td>\n",
       "      <td>1296599.0</td>\n",
       "      <td>5000.0</td>\n",
       "      <td>5000.0</td>\n",
       "      <td>4975.0</td>\n",
       "      <td>36 months</td>\n",
       "      <td>10.65%</td>\n",
       "      <td>162.87</td>\n",
       "      <td>B</td>\n",
       "      <td>B2</td>\n",
       "      <td>...</td>\n",
       "      <td>NaN</td>\n",
       "      <td>NaN</td>\n",
       "      <td>NaN</td>\n",
       "      <td>NaN</td>\n",
       "      <td>0.0</td>\n",
       "      <td>0.0</td>\n",
       "      <td>NaN</td>\n",
       "      <td>NaN</td>\n",
       "      <td>NaN</td>\n",
       "      <td>NaN</td>\n",
       "    </tr>\n",
       "    <tr>\n",
       "      <th>1</th>\n",
       "      <td>1077430</td>\n",
       "      <td>1314167.0</td>\n",
       "      <td>2500.0</td>\n",
       "      <td>2500.0</td>\n",
       "      <td>2500.0</td>\n",
       "      <td>60 months</td>\n",
       "      <td>15.27%</td>\n",
       "      <td>59.83</td>\n",
       "      <td>C</td>\n",
       "      <td>C4</td>\n",
       "      <td>...</td>\n",
       "      <td>NaN</td>\n",
       "      <td>NaN</td>\n",
       "      <td>NaN</td>\n",
       "      <td>NaN</td>\n",
       "      <td>0.0</td>\n",
       "      <td>0.0</td>\n",
       "      <td>NaN</td>\n",
       "      <td>NaN</td>\n",
       "      <td>NaN</td>\n",
       "      <td>NaN</td>\n",
       "    </tr>\n",
       "    <tr>\n",
       "      <th>2</th>\n",
       "      <td>1077175</td>\n",
       "      <td>1313524.0</td>\n",
       "      <td>2400.0</td>\n",
       "      <td>2400.0</td>\n",
       "      <td>2400.0</td>\n",
       "      <td>36 months</td>\n",
       "      <td>15.96%</td>\n",
       "      <td>84.33</td>\n",
       "      <td>C</td>\n",
       "      <td>C5</td>\n",
       "      <td>...</td>\n",
       "      <td>NaN</td>\n",
       "      <td>NaN</td>\n",
       "      <td>NaN</td>\n",
       "      <td>NaN</td>\n",
       "      <td>0.0</td>\n",
       "      <td>0.0</td>\n",
       "      <td>NaN</td>\n",
       "      <td>NaN</td>\n",
       "      <td>NaN</td>\n",
       "      <td>NaN</td>\n",
       "    </tr>\n",
       "    <tr>\n",
       "      <th>3</th>\n",
       "      <td>1076863</td>\n",
       "      <td>1277178.0</td>\n",
       "      <td>10000.0</td>\n",
       "      <td>10000.0</td>\n",
       "      <td>10000.0</td>\n",
       "      <td>36 months</td>\n",
       "      <td>13.49%</td>\n",
       "      <td>339.31</td>\n",
       "      <td>C</td>\n",
       "      <td>C1</td>\n",
       "      <td>...</td>\n",
       "      <td>NaN</td>\n",
       "      <td>NaN</td>\n",
       "      <td>NaN</td>\n",
       "      <td>NaN</td>\n",
       "      <td>0.0</td>\n",
       "      <td>0.0</td>\n",
       "      <td>NaN</td>\n",
       "      <td>NaN</td>\n",
       "      <td>NaN</td>\n",
       "      <td>NaN</td>\n",
       "    </tr>\n",
       "    <tr>\n",
       "      <th>4</th>\n",
       "      <td>1075358</td>\n",
       "      <td>1311748.0</td>\n",
       "      <td>3000.0</td>\n",
       "      <td>3000.0</td>\n",
       "      <td>3000.0</td>\n",
       "      <td>60 months</td>\n",
       "      <td>12.69%</td>\n",
       "      <td>67.79</td>\n",
       "      <td>B</td>\n",
       "      <td>B5</td>\n",
       "      <td>...</td>\n",
       "      <td>NaN</td>\n",
       "      <td>NaN</td>\n",
       "      <td>NaN</td>\n",
       "      <td>NaN</td>\n",
       "      <td>0.0</td>\n",
       "      <td>0.0</td>\n",
       "      <td>NaN</td>\n",
       "      <td>NaN</td>\n",
       "      <td>NaN</td>\n",
       "      <td>NaN</td>\n",
       "    </tr>\n",
       "  </tbody>\n",
       "</table>\n",
       "<p>5 rows × 111 columns</p>\n",
       "</div>"
      ],
      "text/plain": [
       "        id  member_id  loan_amnt  funded_amnt  funded_amnt_inv        term  \\\n",
       "0  1077501  1296599.0     5000.0       5000.0           4975.0   36 months   \n",
       "1  1077430  1314167.0     2500.0       2500.0           2500.0   60 months   \n",
       "2  1077175  1313524.0     2400.0       2400.0           2400.0   36 months   \n",
       "3  1076863  1277178.0    10000.0      10000.0          10000.0   36 months   \n",
       "4  1075358  1311748.0     3000.0       3000.0           3000.0   60 months   \n",
       "\n",
       "  int_rate  installment grade sub_grade            ...              \\\n",
       "0   10.65%       162.87     B        B2            ...               \n",
       "1   15.27%        59.83     C        C4            ...               \n",
       "2   15.96%        84.33     C        C5            ...               \n",
       "3   13.49%       339.31     C        C1            ...               \n",
       "4   12.69%        67.79     B        B5            ...               \n",
       "\n",
       "  num_tl_90g_dpd_24m num_tl_op_past_12m pct_tl_nvr_dlq  percent_bc_gt_75  \\\n",
       "0                NaN                NaN            NaN               NaN   \n",
       "1                NaN                NaN            NaN               NaN   \n",
       "2                NaN                NaN            NaN               NaN   \n",
       "3                NaN                NaN            NaN               NaN   \n",
       "4                NaN                NaN            NaN               NaN   \n",
       "\n",
       "  pub_rec_bankruptcies tax_liens tot_hi_cred_lim total_bal_ex_mort  \\\n",
       "0                  0.0       0.0             NaN               NaN   \n",
       "1                  0.0       0.0             NaN               NaN   \n",
       "2                  0.0       0.0             NaN               NaN   \n",
       "3                  0.0       0.0             NaN               NaN   \n",
       "4                  0.0       0.0             NaN               NaN   \n",
       "\n",
       "  total_bc_limit total_il_high_credit_limit  \n",
       "0            NaN                        NaN  \n",
       "1            NaN                        NaN  \n",
       "2            NaN                        NaN  \n",
       "3            NaN                        NaN  \n",
       "4            NaN                        NaN  \n",
       "\n",
       "[5 rows x 111 columns]"
      ]
     },
     "execution_count": 2,
     "metadata": {},
     "output_type": "execute_result"
    }
   ],
   "source": [
    "loan_data.head()"
   ]
  },
  {
   "cell_type": "code",
   "execution_count": 3,
   "metadata": {
    "collapsed": false
   },
   "outputs": [
    {
     "data": {
      "text/plain": [
       "id                                                                          1077501\n",
       "member_id                                                                1.2966e+06\n",
       "loan_amnt                                                                      5000\n",
       "funded_amnt                                                                    5000\n",
       "funded_amnt_inv                                                                4975\n",
       "term                                                                      36 months\n",
       "int_rate                                                                     10.65%\n",
       "installment                                                                  162.87\n",
       "grade                                                                             B\n",
       "sub_grade                                                                        B2\n",
       "emp_title                                                                       NaN\n",
       "emp_length                                                                10+ years\n",
       "home_ownership                                                                 RENT\n",
       "annual_inc                                                                    24000\n",
       "verification_status                                                        Verified\n",
       "issue_d                                                                    Dec-2011\n",
       "loan_status                                                              Fully Paid\n",
       "pymnt_plan                                                                        n\n",
       "url                               https://lendingclub.com/browse/loanDetail.acti...\n",
       "desc                                Borrower added on 12/22/11 > I need to upgra...\n",
       "purpose                                                                 credit_card\n",
       "title                                                                      Computer\n",
       "zip_code                                                                      860xx\n",
       "addr_state                                                                       AZ\n",
       "dti                                                                           27.65\n",
       "delinq_2yrs                                                                       0\n",
       "earliest_cr_line                                                           Jan-1985\n",
       "inq_last_6mths                                                                    1\n",
       "mths_since_last_delinq                                                          NaN\n",
       "mths_since_last_record                                                          NaN\n",
       "                                                        ...                        \n",
       "mo_sin_old_rev_tl_op                                                            NaN\n",
       "mo_sin_rcnt_rev_tl_op                                                           NaN\n",
       "mo_sin_rcnt_tl                                                                  NaN\n",
       "mort_acc                                                                        NaN\n",
       "mths_since_recent_bc                                                            NaN\n",
       "mths_since_recent_bc_dlq                                                        NaN\n",
       "mths_since_recent_inq                                                           NaN\n",
       "mths_since_recent_revol_delinq                                                  NaN\n",
       "num_accts_ever_120_pd                                                           NaN\n",
       "num_actv_bc_tl                                                                  NaN\n",
       "num_actv_rev_tl                                                                 NaN\n",
       "num_bc_sats                                                                     NaN\n",
       "num_bc_tl                                                                       NaN\n",
       "num_il_tl                                                                       NaN\n",
       "num_op_rev_tl                                                                   NaN\n",
       "num_rev_accts                                                                   NaN\n",
       "num_rev_tl_bal_gt_0                                                             NaN\n",
       "num_sats                                                                        NaN\n",
       "num_tl_120dpd_2m                                                                NaN\n",
       "num_tl_30dpd                                                                    NaN\n",
       "num_tl_90g_dpd_24m                                                              NaN\n",
       "num_tl_op_past_12m                                                              NaN\n",
       "pct_tl_nvr_dlq                                                                  NaN\n",
       "percent_bc_gt_75                                                                NaN\n",
       "pub_rec_bankruptcies                                                              0\n",
       "tax_liens                                                                         0\n",
       "tot_hi_cred_lim                                                                 NaN\n",
       "total_bal_ex_mort                                                               NaN\n",
       "total_bc_limit                                                                  NaN\n",
       "total_il_high_credit_limit                                                      NaN\n",
       "Name: 0, dtype: object"
      ]
     },
     "execution_count": 3,
     "metadata": {},
     "output_type": "execute_result"
    }
   ],
   "source": [
    "loan_data.iloc[0]"
   ]
  },
  {
   "cell_type": "markdown",
   "metadata": {},
   "source": [
    "As we can see, the number of columns will be something to work on. We will remove the *`desc`* and *`url`* columns mostly because it leads to or describes information that is not necessary for our analysis.  "
   ]
  },
  {
   "cell_type": "code",
   "execution_count": 4,
   "metadata": {
    "collapsed": false
   },
   "outputs": [],
   "source": [
    "loan_data = loan_data.drop(['desc', 'url'],axis=1)"
   ]
  },
  {
   "cell_type": "code",
   "execution_count": 5,
   "metadata": {
    "collapsed": false
   },
   "outputs": [
    {
     "name": "stderr",
     "output_type": "stream",
     "text": [
      "/home/francois/anaconda3/envs/py27/lib/python2.7/site-packages/numpy/lib/function_base.py:3834: RuntimeWarning: Invalid value encountered in percentile\n",
      "  RuntimeWarning)\n"
     ]
    },
    {
     "data": {
      "text/html": [
       "<div>\n",
       "<table border=\"1\" class=\"dataframe\">\n",
       "  <thead>\n",
       "    <tr style=\"text-align: right;\">\n",
       "      <th></th>\n",
       "      <th>member_id</th>\n",
       "      <th>loan_amnt</th>\n",
       "      <th>funded_amnt</th>\n",
       "      <th>funded_amnt_inv</th>\n",
       "      <th>installment</th>\n",
       "      <th>annual_inc</th>\n",
       "      <th>dti</th>\n",
       "      <th>delinq_2yrs</th>\n",
       "      <th>inq_last_6mths</th>\n",
       "      <th>mths_since_last_delinq</th>\n",
       "      <th>...</th>\n",
       "      <th>num_tl_90g_dpd_24m</th>\n",
       "      <th>num_tl_op_past_12m</th>\n",
       "      <th>pct_tl_nvr_dlq</th>\n",
       "      <th>percent_bc_gt_75</th>\n",
       "      <th>pub_rec_bankruptcies</th>\n",
       "      <th>tax_liens</th>\n",
       "      <th>tot_hi_cred_lim</th>\n",
       "      <th>total_bal_ex_mort</th>\n",
       "      <th>total_bc_limit</th>\n",
       "      <th>total_il_high_credit_limit</th>\n",
       "    </tr>\n",
       "  </thead>\n",
       "  <tbody>\n",
       "    <tr>\n",
       "      <th>count</th>\n",
       "      <td>4.253500e+04</td>\n",
       "      <td>42535.000000</td>\n",
       "      <td>42535.000000</td>\n",
       "      <td>42535.000000</td>\n",
       "      <td>42535.000000</td>\n",
       "      <td>4.253100e+04</td>\n",
       "      <td>42535.000000</td>\n",
       "      <td>42506.000000</td>\n",
       "      <td>42506.000000</td>\n",
       "      <td>15609.000000</td>\n",
       "      <td>...</td>\n",
       "      <td>0.0</td>\n",
       "      <td>0.0</td>\n",
       "      <td>0.0</td>\n",
       "      <td>0.0</td>\n",
       "      <td>41170.000000</td>\n",
       "      <td>42430.000000</td>\n",
       "      <td>0.0</td>\n",
       "      <td>0.0</td>\n",
       "      <td>0.0</td>\n",
       "      <td>0.0</td>\n",
       "    </tr>\n",
       "    <tr>\n",
       "      <th>mean</th>\n",
       "      <td>8.257026e+05</td>\n",
       "      <td>11089.722581</td>\n",
       "      <td>10821.585753</td>\n",
       "      <td>10139.830603</td>\n",
       "      <td>322.623063</td>\n",
       "      <td>6.913656e+04</td>\n",
       "      <td>13.373043</td>\n",
       "      <td>0.152449</td>\n",
       "      <td>1.081424</td>\n",
       "      <td>35.017618</td>\n",
       "      <td>...</td>\n",
       "      <td>NaN</td>\n",
       "      <td>NaN</td>\n",
       "      <td>NaN</td>\n",
       "      <td>NaN</td>\n",
       "      <td>0.045227</td>\n",
       "      <td>0.000024</td>\n",
       "      <td>NaN</td>\n",
       "      <td>NaN</td>\n",
       "      <td>NaN</td>\n",
       "      <td>NaN</td>\n",
       "    </tr>\n",
       "    <tr>\n",
       "      <th>std</th>\n",
       "      <td>2.795409e+05</td>\n",
       "      <td>7410.938391</td>\n",
       "      <td>7146.914675</td>\n",
       "      <td>7131.686447</td>\n",
       "      <td>208.927216</td>\n",
       "      <td>6.409635e+04</td>\n",
       "      <td>6.726315</td>\n",
       "      <td>0.512406</td>\n",
       "      <td>1.527455</td>\n",
       "      <td>22.418427</td>\n",
       "      <td>...</td>\n",
       "      <td>NaN</td>\n",
       "      <td>NaN</td>\n",
       "      <td>NaN</td>\n",
       "      <td>NaN</td>\n",
       "      <td>0.208737</td>\n",
       "      <td>0.004855</td>\n",
       "      <td>NaN</td>\n",
       "      <td>NaN</td>\n",
       "      <td>NaN</td>\n",
       "      <td>NaN</td>\n",
       "    </tr>\n",
       "    <tr>\n",
       "      <th>min</th>\n",
       "      <td>7.047300e+04</td>\n",
       "      <td>500.000000</td>\n",
       "      <td>500.000000</td>\n",
       "      <td>0.000000</td>\n",
       "      <td>15.670000</td>\n",
       "      <td>1.896000e+03</td>\n",
       "      <td>0.000000</td>\n",
       "      <td>0.000000</td>\n",
       "      <td>0.000000</td>\n",
       "      <td>0.000000</td>\n",
       "      <td>...</td>\n",
       "      <td>NaN</td>\n",
       "      <td>NaN</td>\n",
       "      <td>NaN</td>\n",
       "      <td>NaN</td>\n",
       "      <td>0.000000</td>\n",
       "      <td>0.000000</td>\n",
       "      <td>NaN</td>\n",
       "      <td>NaN</td>\n",
       "      <td>NaN</td>\n",
       "      <td>NaN</td>\n",
       "    </tr>\n",
       "    <tr>\n",
       "      <th>25%</th>\n",
       "      <td>NaN</td>\n",
       "      <td>NaN</td>\n",
       "      <td>NaN</td>\n",
       "      <td>NaN</td>\n",
       "      <td>NaN</td>\n",
       "      <td>NaN</td>\n",
       "      <td>NaN</td>\n",
       "      <td>NaN</td>\n",
       "      <td>NaN</td>\n",
       "      <td>NaN</td>\n",
       "      <td>...</td>\n",
       "      <td>NaN</td>\n",
       "      <td>NaN</td>\n",
       "      <td>NaN</td>\n",
       "      <td>NaN</td>\n",
       "      <td>NaN</td>\n",
       "      <td>NaN</td>\n",
       "      <td>NaN</td>\n",
       "      <td>NaN</td>\n",
       "      <td>NaN</td>\n",
       "      <td>NaN</td>\n",
       "    </tr>\n",
       "    <tr>\n",
       "      <th>50%</th>\n",
       "      <td>NaN</td>\n",
       "      <td>NaN</td>\n",
       "      <td>NaN</td>\n",
       "      <td>NaN</td>\n",
       "      <td>NaN</td>\n",
       "      <td>NaN</td>\n",
       "      <td>NaN</td>\n",
       "      <td>NaN</td>\n",
       "      <td>NaN</td>\n",
       "      <td>NaN</td>\n",
       "      <td>...</td>\n",
       "      <td>NaN</td>\n",
       "      <td>NaN</td>\n",
       "      <td>NaN</td>\n",
       "      <td>NaN</td>\n",
       "      <td>NaN</td>\n",
       "      <td>NaN</td>\n",
       "      <td>NaN</td>\n",
       "      <td>NaN</td>\n",
       "      <td>NaN</td>\n",
       "      <td>NaN</td>\n",
       "    </tr>\n",
       "    <tr>\n",
       "      <th>75%</th>\n",
       "      <td>NaN</td>\n",
       "      <td>NaN</td>\n",
       "      <td>NaN</td>\n",
       "      <td>NaN</td>\n",
       "      <td>NaN</td>\n",
       "      <td>NaN</td>\n",
       "      <td>NaN</td>\n",
       "      <td>NaN</td>\n",
       "      <td>NaN</td>\n",
       "      <td>NaN</td>\n",
       "      <td>...</td>\n",
       "      <td>NaN</td>\n",
       "      <td>NaN</td>\n",
       "      <td>NaN</td>\n",
       "      <td>NaN</td>\n",
       "      <td>NaN</td>\n",
       "      <td>NaN</td>\n",
       "      <td>NaN</td>\n",
       "      <td>NaN</td>\n",
       "      <td>NaN</td>\n",
       "      <td>NaN</td>\n",
       "    </tr>\n",
       "    <tr>\n",
       "      <th>max</th>\n",
       "      <td>1.314167e+06</td>\n",
       "      <td>35000.000000</td>\n",
       "      <td>35000.000000</td>\n",
       "      <td>35000.000000</td>\n",
       "      <td>1305.190000</td>\n",
       "      <td>6.000000e+06</td>\n",
       "      <td>29.990000</td>\n",
       "      <td>13.000000</td>\n",
       "      <td>33.000000</td>\n",
       "      <td>120.000000</td>\n",
       "      <td>...</td>\n",
       "      <td>NaN</td>\n",
       "      <td>NaN</td>\n",
       "      <td>NaN</td>\n",
       "      <td>NaN</td>\n",
       "      <td>2.000000</td>\n",
       "      <td>1.000000</td>\n",
       "      <td>NaN</td>\n",
       "      <td>NaN</td>\n",
       "      <td>NaN</td>\n",
       "      <td>NaN</td>\n",
       "    </tr>\n",
       "  </tbody>\n",
       "</table>\n",
       "<p>8 rows × 86 columns</p>\n",
       "</div>"
      ],
      "text/plain": [
       "          member_id     loan_amnt   funded_amnt  funded_amnt_inv  \\\n",
       "count  4.253500e+04  42535.000000  42535.000000     42535.000000   \n",
       "mean   8.257026e+05  11089.722581  10821.585753     10139.830603   \n",
       "std    2.795409e+05   7410.938391   7146.914675      7131.686447   \n",
       "min    7.047300e+04    500.000000    500.000000         0.000000   \n",
       "25%             NaN           NaN           NaN              NaN   \n",
       "50%             NaN           NaN           NaN              NaN   \n",
       "75%             NaN           NaN           NaN              NaN   \n",
       "max    1.314167e+06  35000.000000  35000.000000     35000.000000   \n",
       "\n",
       "        installment    annual_inc           dti   delinq_2yrs  inq_last_6mths  \\\n",
       "count  42535.000000  4.253100e+04  42535.000000  42506.000000    42506.000000   \n",
       "mean     322.623063  6.913656e+04     13.373043      0.152449        1.081424   \n",
       "std      208.927216  6.409635e+04      6.726315      0.512406        1.527455   \n",
       "min       15.670000  1.896000e+03      0.000000      0.000000        0.000000   \n",
       "25%             NaN           NaN           NaN           NaN             NaN   \n",
       "50%             NaN           NaN           NaN           NaN             NaN   \n",
       "75%             NaN           NaN           NaN           NaN             NaN   \n",
       "max     1305.190000  6.000000e+06     29.990000     13.000000       33.000000   \n",
       "\n",
       "       mths_since_last_delinq             ...              num_tl_90g_dpd_24m  \\\n",
       "count            15609.000000             ...                             0.0   \n",
       "mean                35.017618             ...                             NaN   \n",
       "std                 22.418427             ...                             NaN   \n",
       "min                  0.000000             ...                             NaN   \n",
       "25%                       NaN             ...                             NaN   \n",
       "50%                       NaN             ...                             NaN   \n",
       "75%                       NaN             ...                             NaN   \n",
       "max                120.000000             ...                             NaN   \n",
       "\n",
       "       num_tl_op_past_12m  pct_tl_nvr_dlq  percent_bc_gt_75  \\\n",
       "count                 0.0             0.0               0.0   \n",
       "mean                  NaN             NaN               NaN   \n",
       "std                   NaN             NaN               NaN   \n",
       "min                   NaN             NaN               NaN   \n",
       "25%                   NaN             NaN               NaN   \n",
       "50%                   NaN             NaN               NaN   \n",
       "75%                   NaN             NaN               NaN   \n",
       "max                   NaN             NaN               NaN   \n",
       "\n",
       "       pub_rec_bankruptcies     tax_liens  tot_hi_cred_lim  total_bal_ex_mort  \\\n",
       "count          41170.000000  42430.000000              0.0                0.0   \n",
       "mean               0.045227      0.000024              NaN                NaN   \n",
       "std                0.208737      0.004855              NaN                NaN   \n",
       "min                0.000000      0.000000              NaN                NaN   \n",
       "25%                     NaN           NaN              NaN                NaN   \n",
       "50%                     NaN           NaN              NaN                NaN   \n",
       "75%                     NaN           NaN              NaN                NaN   \n",
       "max                2.000000      1.000000              NaN                NaN   \n",
       "\n",
       "       total_bc_limit  total_il_high_credit_limit  \n",
       "count             0.0                         0.0  \n",
       "mean              NaN                         NaN  \n",
       "std               NaN                         NaN  \n",
       "min               NaN                         NaN  \n",
       "25%               NaN                         NaN  \n",
       "50%               NaN                         NaN  \n",
       "75%               NaN                         NaN  \n",
       "max               NaN                         NaN  \n",
       "\n",
       "[8 rows x 86 columns]"
      ]
     },
     "execution_count": 5,
     "metadata": {},
     "output_type": "execute_result"
    }
   ],
   "source": [
    "loan_data.describe()"
   ]
  },
  {
   "cell_type": "markdown",
   "metadata": {},
   "source": [
    "Another notable thing to remove is to remove columns with more than 50% missing values. It would be time consumming and inefficient to deal with the tremendous amount of missing values from these columns."
   ]
  },
  {
   "cell_type": "code",
   "execution_count": 6,
   "metadata": {
    "collapsed": true
   },
   "outputs": [],
   "source": [
    "# count half point of the dataset.\n",
    "half_point = len(loan_data) / 2\n",
    "loan_data = loan_data.dropna(thresh=half_point, axis=1)\n",
    "# we save the new file\n",
    "loan_data.to_csv('loan_data.csv', index=False)"
   ]
  },
  {
   "cell_type": "markdown",
   "metadata": {},
   "source": [
    "We reload the data in the notebook and take a look at the first row."
   ]
  },
  {
   "cell_type": "code",
   "execution_count": 7,
   "metadata": {
    "collapsed": false
   },
   "outputs": [
    {
     "data": {
      "text/plain": [
       "id                                1077501\n",
       "member_id                      1.2966e+06\n",
       "loan_amnt                            5000\n",
       "funded_amnt                          5000\n",
       "funded_amnt_inv                      4975\n",
       "term                            36 months\n",
       "int_rate                           10.65%\n",
       "installment                        162.87\n",
       "grade                                   B\n",
       "sub_grade                              B2\n",
       "emp_title                             NaN\n",
       "emp_length                      10+ years\n",
       "home_ownership                       RENT\n",
       "annual_inc                          24000\n",
       "verification_status              Verified\n",
       "issue_d                          Dec-2011\n",
       "loan_status                    Fully Paid\n",
       "pymnt_plan                              n\n",
       "purpose                       credit_card\n",
       "title                            Computer\n",
       "zip_code                            860xx\n",
       "addr_state                             AZ\n",
       "dti                                 27.65\n",
       "delinq_2yrs                             0\n",
       "earliest_cr_line                 Jan-1985\n",
       "inq_last_6mths                          1\n",
       "open_acc                                3\n",
       "pub_rec                                 0\n",
       "revol_bal                           13648\n",
       "revol_util                          83.7%\n",
       "total_acc                               9\n",
       "initial_list_status                     f\n",
       "out_prncp                               0\n",
       "out_prncp_inv                           0\n",
       "total_pymnt                       5863.16\n",
       "total_pymnt_inv                   5833.84\n",
       "total_rec_prncp                      5000\n",
       "total_rec_int                      863.16\n",
       "total_rec_late_fee                      0\n",
       "recoveries                              0\n",
       "collection_recovery_fee                 0\n",
       "last_pymnt_d                     Jan-2015\n",
       "last_pymnt_amnt                    171.62\n",
       "last_credit_pull_d               Dec-2016\n",
       "collections_12_mths_ex_med              0\n",
       "policy_code                             1\n",
       "application_type               INDIVIDUAL\n",
       "acc_now_delinq                          0\n",
       "chargeoff_within_12_mths                0\n",
       "delinq_amnt                             0\n",
       "pub_rec_bankruptcies                    0\n",
       "tax_liens                               0\n",
       "Name: 0, dtype: object"
      ]
     },
     "execution_count": 7,
     "metadata": {},
     "output_type": "execute_result"
    }
   ],
   "source": [
    "loan_data = pd.read_csv('loan_data.csv', low_memory = False)\n",
    "loan_data.drop_duplicates()\n",
    "\n",
    "loan_data.iloc[0]"
   ]
  },
  {
   "cell_type": "code",
   "execution_count": 8,
   "metadata": {
    "collapsed": false
   },
   "outputs": [
    {
     "data": {
      "text/plain": [
       "52"
      ]
     },
     "execution_count": 8,
     "metadata": {},
     "output_type": "execute_result"
    }
   ],
   "source": [
    "loan_data.shape[1]"
   ]
  },
  {
   "cell_type": "markdown",
   "metadata": {},
   "source": [
    "As we have seen the Dataframe is cumbersome and we had to set the `low_memory` to `False` to avoid a warning message from the notebook. This is due to the numerous columns of the dataset. Let us now explore the dataset with the data dictionary as this will be useful as we go through the data and try to clean it.\n",
    "\n",
    "One important thing to keep in mind is that we will need to be careful about data from the future, this type of leakage could throw off the predictions of our model. A clear example is information about the borrower after the loan was approved, this is not data that we would have at our disposal. \n",
    "\n",
    "We will be splitting the set in 4 columns giving us 13 features to analysis and try to make sense of. This part is crucial in order to understand the data and avoid error while fitting our machine learning model later on. "
   ]
  },
  {
   "cell_type": "markdown",
   "metadata": {},
   "source": [
    "## II. Analysis"
   ]
  },
  {
   "cell_type": "markdown",
   "metadata": {},
   "source": [
    "### Features Meaning and Usefulness\n",
    "We will use the first entry of the `loan_data.csv` file to explore the meaning of the remaining 52 columns. "
   ]
  },
  {
   "cell_type": "code",
   "execution_count": 9,
   "metadata": {
    "collapsed": false
   },
   "outputs": [],
   "source": [
    "first_entry = loan_data.iloc[0]\n",
    "first_entry.to_csv('first_entry.csv', index = True)"
   ]
  },
  {
   "cell_type": "code",
   "execution_count": 10,
   "metadata": {
    "collapsed": false
   },
   "outputs": [
    {
     "data": {
      "text/plain": [
       "(115, 2)"
      ]
     },
     "execution_count": 10,
     "metadata": {},
     "output_type": "execute_result"
    }
   ],
   "source": [
    "description = pd.read_csv('LCDataDictionary.csv')\n",
    "\n",
    "description.shape"
   ]
  },
  {
   "cell_type": "code",
   "execution_count": 11,
   "metadata": {
    "collapsed": false
   },
   "outputs": [],
   "source": [
    "import csv\n",
    "list_first_entry = open('first_entry.csv', 'r')\n",
    "first_csvreader = csv.reader(list_first_entry)\n",
    "first_list = list(first_csvreader)\n",
    "\n",
    "list_data_dictio = open('LCDataDictionary.csv', 'r')\n",
    "second_csvreader = csv.reader(list_data_dictio)\n",
    "second_list = list(second_csvreader)\n",
    "\n",
    "table = []\n",
    "for row in first_list:\n",
    "    table.append(row[0])\n",
    "\n",
    "new_table = []\n",
    "for col in second_list:\n",
    "    if col[0] in table:\n",
    "        new_table.append(col)"
   ]
  },
  {
   "cell_type": "code",
   "execution_count": 12,
   "metadata": {
    "collapsed": false
   },
   "outputs": [],
   "source": [
    "df_table = pd.DataFrame(new_table, columns = ['Variable', 'Description'])"
   ]
  },
  {
   "cell_type": "code",
   "execution_count": 13,
   "metadata": {
    "collapsed": false
   },
   "outputs": [],
   "source": [
    "df_table = df_table.set_index(['Variable', 'Description'])"
   ]
  },
  {
   "cell_type": "markdown",
   "metadata": {},
   "source": [
    "### First Set Of Features\n",
    "By analyzing the first 13 features, we understand that we can remove the *`id`* and *`member_id`* feature because it does not tell us anything about the person, these are arbitrary features given by Lending Club.\n",
    "\n",
    "The *`funded_amnt`* and *`funded_amnt_inv`* are both features about the future the loan has been approved at that point and cannot be considered in our model. *`grade`* and *`sub_grade`* are recurring data  that we already have with (or a different angle on) the *`int_rate`* feature, thus we can dispose of them. \n",
    "\n",
    "Finally, although it could be an area of improvement in our model, the *`emp_title`* feature would be a hard feature to evaluate. Some form of sentiment analysis would need to be used and certain metrics would need to provide a good estimate of a title's meaning and value in the lending context. We will refrain ourselves in delving deeper, but we noticed this could be an interesting data science side project.  "
   ]
  },
  {
   "cell_type": "code",
   "execution_count": 14,
   "metadata": {
    "collapsed": false
   },
   "outputs": [
    {
     "data": {
      "text/html": [
       "<div>\n",
       "<table border=\"1\" class=\"dataframe\">\n",
       "  <thead>\n",
       "    <tr style=\"text-align: right;\">\n",
       "      <th></th>\n",
       "      <th></th>\n",
       "    </tr>\n",
       "    <tr>\n",
       "      <th>Variable</th>\n",
       "      <th>Description</th>\n",
       "    </tr>\n",
       "  </thead>\n",
       "  <tbody>\n",
       "    <tr>\n",
       "      <th>emp_length</th>\n",
       "      <th>Employment length in years. Possible values are between 0 and 10 where 0 means less than one year and 10 means ten or more years.</th>\n",
       "    </tr>\n",
       "    <tr>\n",
       "      <th>emp_title</th>\n",
       "      <th>The job title supplied by the Borrower when applying for the loan.*</th>\n",
       "    </tr>\n",
       "    <tr>\n",
       "      <th>funded_amnt</th>\n",
       "      <th>The total amount committed to that loan at that point in time.</th>\n",
       "    </tr>\n",
       "    <tr>\n",
       "      <th>funded_amnt_inv</th>\n",
       "      <th>The total amount committed by investors for that loan at that point in time.</th>\n",
       "    </tr>\n",
       "    <tr>\n",
       "      <th>grade</th>\n",
       "      <th>LC assigned loan grade</th>\n",
       "    </tr>\n",
       "    <tr>\n",
       "      <th>home_ownership</th>\n",
       "      <th>The home ownership status provided by the borrower during registration or obtained from the credit report. Our values are: RENT, OWN, MORTGAGE, OTHER</th>\n",
       "    </tr>\n",
       "    <tr>\n",
       "      <th>id</th>\n",
       "      <th>A unique LC assigned ID for the loan listing.</th>\n",
       "    </tr>\n",
       "    <tr>\n",
       "      <th>installment</th>\n",
       "      <th>The monthly payment owed by the borrower if the loan originates.</th>\n",
       "    </tr>\n",
       "    <tr>\n",
       "      <th>int_rate</th>\n",
       "      <th>Interest Rate on the loan</th>\n",
       "    </tr>\n",
       "    <tr>\n",
       "      <th>loan_amnt</th>\n",
       "      <th>The listed amount of the loan applied for by the borrower. If at some point in time, the credit department reduces the loan amount, then it will be reflected in this value.</th>\n",
       "    </tr>\n",
       "    <tr>\n",
       "      <th>member_id</th>\n",
       "      <th>A unique LC assigned Id for the borrower member.</th>\n",
       "    </tr>\n",
       "    <tr>\n",
       "      <th>sub_grade</th>\n",
       "      <th>LC assigned loan subgrade</th>\n",
       "    </tr>\n",
       "    <tr>\n",
       "      <th>term</th>\n",
       "      <th>The number of payments on the loan. Values are in months and can be either 36 or 60.</th>\n",
       "    </tr>\n",
       "  </tbody>\n",
       "</table>\n",
       "</div>"
      ],
      "text/plain": [
       "Empty DataFrame\n",
       "Columns: []\n",
       "Index: [(emp_length, Employment length in years. Possible values are between 0 and 10 where 0 means less than one year and 10 means ten or more years. ), (emp_title, The job title supplied by the Borrower when applying for the loan.*), (funded_amnt, The total amount committed to that loan at that point in time.), (funded_amnt_inv, The total amount committed by investors for that loan at that point in time.), (grade, LC assigned loan grade), (home_ownership, The home ownership status provided by the borrower during registration or obtained from the credit report. Our values are: RENT, OWN, MORTGAGE, OTHER), (id, A unique LC assigned ID for the loan listing.), (installment, The monthly payment owed by the borrower if the loan originates.), (int_rate, Interest Rate on the loan), (loan_amnt, The listed amount of the loan applied for by the borrower. If at some point in time, the credit department reduces the loan amount, then it will be reflected in this value.), (member_id, A unique LC assigned Id for the borrower member.), (sub_grade, LC assigned loan subgrade), (term, The number of payments on the loan. Values are in months and can be either 36 or 60.)]"
      ]
     },
     "execution_count": 14,
     "metadata": {},
     "output_type": "execute_result"
    }
   ],
   "source": [
    "first_13 = ['id','member_id','loan_amnt','funded_amnt','funded_amnt_inv','term',\n",
    "            'int_rate','installment','grade','sub_grade','emp_title','emp_length','home_ownership']\n",
    "df_table.loc[first_13]"
   ]
  },
  {
   "cell_type": "code",
   "execution_count": 15,
   "metadata": {
    "collapsed": false
   },
   "outputs": [],
   "source": [
    "#We drop the columns enumerated in the cell above.\n",
    "loan_data = loan_data.drop(['id', 'member_id', 'funded_amnt', 'funded_amnt_inv', \n",
    "                              'grade', 'sub_grade', 'emp_title'], axis =1)"
   ]
  },
  {
   "cell_type": "markdown",
   "metadata": {},
   "source": [
    "### Second Set Of Features\n",
    "The next 13 features contain *`issue_d`*, this is data about the month the loan was funded, this means it leaks a future information, we need to remove it. The *`zip_code`* is a column that does not add any value because we already have the state adress with *`addr_state`*. The *`zip_code`* could be used with other economic data to uncover a relationship with the environnement in which a person lives and the risk of default, but this could be seen as discriminatory practice and we only have the first 3 digits of the code area."
   ]
  },
  {
   "cell_type": "code",
   "execution_count": 16,
   "metadata": {
    "collapsed": false
   },
   "outputs": [
    {
     "data": {
      "text/html": [
       "<div>\n",
       "<table border=\"1\" class=\"dataframe\">\n",
       "  <thead>\n",
       "    <tr style=\"text-align: right;\">\n",
       "      <th></th>\n",
       "      <th></th>\n",
       "    </tr>\n",
       "    <tr>\n",
       "      <th>Variable</th>\n",
       "      <th>Description</th>\n",
       "    </tr>\n",
       "  </thead>\n",
       "  <tbody>\n",
       "    <tr>\n",
       "      <th>addr_state</th>\n",
       "      <th>The state provided by the borrower in the loan application</th>\n",
       "    </tr>\n",
       "    <tr>\n",
       "      <th>annual_inc</th>\n",
       "      <th>The self-reported annual income provided by the borrower during registration.</th>\n",
       "    </tr>\n",
       "    <tr>\n",
       "      <th>delinq_2yrs</th>\n",
       "      <th>The number of 30+ days past-due incidences of delinquency in the borrower's credit file for the past 2 years</th>\n",
       "    </tr>\n",
       "    <tr>\n",
       "      <th>dti</th>\n",
       "      <th>A ratio calculated using the borrower’s total monthly debt payments on the total debt obligations, excluding mortgage and the requested LC loan, divided by the borrower’s self-reported monthly income.</th>\n",
       "    </tr>\n",
       "    <tr>\n",
       "      <th>earliest_cr_line</th>\n",
       "      <th>The month the borrower's earliest reported credit line was opened</th>\n",
       "    </tr>\n",
       "    <tr>\n",
       "      <th>inq_last_6mths</th>\n",
       "      <th>The number of inquiries in past 6 months (excluding auto and mortgage inquiries)</th>\n",
       "    </tr>\n",
       "    <tr>\n",
       "      <th>issue_d</th>\n",
       "      <th>The month which the loan was funded</th>\n",
       "    </tr>\n",
       "    <tr>\n",
       "      <th>loan_status</th>\n",
       "      <th>Current status of the loan</th>\n",
       "    </tr>\n",
       "    <tr>\n",
       "      <th>purpose</th>\n",
       "      <th>A category provided by the borrower for the loan request.</th>\n",
       "    </tr>\n",
       "    <tr>\n",
       "      <th>pymnt_plan</th>\n",
       "      <th>Indicates if a payment plan has been put in place for the loan</th>\n",
       "    </tr>\n",
       "    <tr>\n",
       "      <th>title</th>\n",
       "      <th>The loan title provided by the borrower</th>\n",
       "    </tr>\n",
       "    <tr>\n",
       "      <th>verification_status</th>\n",
       "      <th>Indicates if income was verified by LC, not verified, or if the income source was verified</th>\n",
       "    </tr>\n",
       "    <tr>\n",
       "      <th>zip_code</th>\n",
       "      <th>The first 3 numbers of the zip code provided by the borrower in the loan application.</th>\n",
       "    </tr>\n",
       "  </tbody>\n",
       "</table>\n",
       "</div>"
      ],
      "text/plain": [
       "Empty DataFrame\n",
       "Columns: []\n",
       "Index: [(addr_state, The state provided by the borrower in the loan application), (annual_inc, The self-reported annual income provided by the borrower during registration.), (delinq_2yrs, The number of 30+ days past-due incidences of delinquency in the borrower's credit file for the past 2 years), (dti, A ratio calculated using the borrower’s total monthly debt payments on the total debt obligations, excluding mortgage and the requested LC loan, divided by the borrower’s self-reported monthly income.), (earliest_cr_line, The month the borrower's earliest reported credit line was opened), (inq_last_6mths, The number of inquiries in past 6 months (excluding auto and mortgage inquiries)), (issue_d, The month which the loan was funded), (loan_status, Current status of the loan), (purpose, A category provided by the borrower for the loan request. ), (pymnt_plan, Indicates if a payment plan has been put in place for the loan), (title, The loan title provided by the borrower), (verification_status, Indicates if income was verified by LC, not verified, or if the income source was verified), (zip_code, The first 3 numbers of the zip code provided by the borrower in the loan application.)]"
      ]
     },
     "execution_count": 16,
     "metadata": {},
     "output_type": "execute_result"
    }
   ],
   "source": [
    "second_13 = ['annual_inc','verification_status','issue_d','loan_status','pymnt_plan','purpose',\n",
    "             'title','zip_code','addr_state','dti','delinq_2yrs','earliest_cr_line', 'inq_last_6mths']\n",
    "df_table.loc[second_13]"
   ]
  },
  {
   "cell_type": "code",
   "execution_count": 17,
   "metadata": {
    "collapsed": false
   },
   "outputs": [],
   "source": [
    "loan_data = loan_data.drop(['issue_d','zip_code'], axis =1)"
   ]
  },
  {
   "cell_type": "markdown",
   "metadata": {},
   "source": [
    "### Third Set Of Features\n",
    "The following 5 variables are all about the future, they inform us about how the repayment is going, *`out_prncp`*, *`out_prncp_inv`*, *`total_pymnt`*, *`total_pymnt_inv`*, *`total_rec_prncp`*. We need to remove them from our model. The *`total_rec_int`* is about the interest received to date (meaning the loan has been approved) and *`total_rec_late_fee`* is about the interest that are late. These 2 variables need to be removed from the dataset."
   ]
  },
  {
   "cell_type": "code",
   "execution_count": 18,
   "metadata": {
    "collapsed": false
   },
   "outputs": [
    {
     "data": {
      "text/html": [
       "<div>\n",
       "<table border=\"1\" class=\"dataframe\">\n",
       "  <thead>\n",
       "    <tr style=\"text-align: right;\">\n",
       "      <th></th>\n",
       "      <th></th>\n",
       "    </tr>\n",
       "    <tr>\n",
       "      <th>Variable</th>\n",
       "      <th>Description</th>\n",
       "    </tr>\n",
       "  </thead>\n",
       "  <tbody>\n",
       "    <tr>\n",
       "      <th>initial_list_status</th>\n",
       "      <th>The initial listing status of the loan. Possible values are – W, F</th>\n",
       "    </tr>\n",
       "    <tr>\n",
       "      <th>open_acc</th>\n",
       "      <th>The number of open credit lines in the borrower's credit file.</th>\n",
       "    </tr>\n",
       "    <tr>\n",
       "      <th>out_prncp</th>\n",
       "      <th>Remaining outstanding principal for total amount funded</th>\n",
       "    </tr>\n",
       "    <tr>\n",
       "      <th>out_prncp_inv</th>\n",
       "      <th>Remaining outstanding principal for portion of total amount funded by investors</th>\n",
       "    </tr>\n",
       "    <tr>\n",
       "      <th>pub_rec</th>\n",
       "      <th>Number of derogatory public records</th>\n",
       "    </tr>\n",
       "    <tr>\n",
       "      <th>revol_bal</th>\n",
       "      <th>Total credit revolving balance</th>\n",
       "    </tr>\n",
       "    <tr>\n",
       "      <th>revol_util</th>\n",
       "      <th>Revolving line utilization rate, or the amount of credit the borrower is using relative to all available revolving credit.</th>\n",
       "    </tr>\n",
       "    <tr>\n",
       "      <th>total_acc</th>\n",
       "      <th>The total number of credit lines currently in the borrower's credit file</th>\n",
       "    </tr>\n",
       "    <tr>\n",
       "      <th>total_pymnt</th>\n",
       "      <th>Payments received to date for total amount funded</th>\n",
       "    </tr>\n",
       "    <tr>\n",
       "      <th>total_pymnt_inv</th>\n",
       "      <th>Payments received to date for portion of total amount funded by investors</th>\n",
       "    </tr>\n",
       "    <tr>\n",
       "      <th>total_rec_int</th>\n",
       "      <th>Interest received to date</th>\n",
       "    </tr>\n",
       "    <tr>\n",
       "      <th>total_rec_late_fee</th>\n",
       "      <th>Late fees received to date</th>\n",
       "    </tr>\n",
       "    <tr>\n",
       "      <th>total_rec_prncp</th>\n",
       "      <th>Principal received to date</th>\n",
       "    </tr>\n",
       "  </tbody>\n",
       "</table>\n",
       "</div>"
      ],
      "text/plain": [
       "Empty DataFrame\n",
       "Columns: []\n",
       "Index: [(initial_list_status, The initial listing status of the loan. Possible values are – W, F), (open_acc, The number of open credit lines in the borrower's credit file.), (out_prncp, Remaining outstanding principal for total amount funded), (out_prncp_inv, Remaining outstanding principal for portion of total amount funded by investors), (pub_rec, Number of derogatory public records), (revol_bal, Total credit revolving balance), (revol_util, Revolving line utilization rate, or the amount of credit the borrower is using relative to all available revolving credit.), (total_acc, The total number of credit lines currently in the borrower's credit file), (total_pymnt, Payments received to date for total amount funded), (total_pymnt_inv, Payments received to date for portion of total amount funded by investors), (total_rec_int, Interest received to date), (total_rec_late_fee, Late fees received to date), (total_rec_prncp, Principal received to date)]"
      ]
     },
     "execution_count": 18,
     "metadata": {},
     "output_type": "execute_result"
    }
   ],
   "source": [
    "third_13 = ['open_acc', 'pub_rec', 'revol_bal','revol_util','total_acc', 'initial_list_status','out_prncp',\n",
    "            'out_prncp_inv','total_pymnt','total_pymnt_inv','total_rec_prncp','total_rec_int', 'total_rec_late_fee']\n",
    "df_table.loc[third_13]"
   ]
  },
  {
   "cell_type": "code",
   "execution_count": 19,
   "metadata": {
    "collapsed": true
   },
   "outputs": [],
   "source": [
    "loan_data = loan_data.drop(['out_prncp', 'out_prncp_inv', 'total_pymnt', 'total_pymnt_inv',\n",
    "                              'total_rec_prncp', 'total_rec_int', 'total_rec_late_fee'], axis =1)"
   ]
  },
  {
   "cell_type": "markdown",
   "metadata": {},
   "source": [
    "### Fourth Set Of Features\n",
    "Finally, the last set of 13 features contain *`recoveries`* and *`collection_recovery_fee`* which are both leak from the future about the loan. And *`last_pymnt_d`* and *`last_pmyny_amnt`* are about the end of repayment, which means we cannot know that in advance.    "
   ]
  },
  {
   "cell_type": "code",
   "execution_count": 20,
   "metadata": {
    "collapsed": false
   },
   "outputs": [
    {
     "data": {
      "text/html": [
       "<div>\n",
       "<table border=\"1\" class=\"dataframe\">\n",
       "  <thead>\n",
       "    <tr style=\"text-align: right;\">\n",
       "      <th></th>\n",
       "      <th></th>\n",
       "    </tr>\n",
       "    <tr>\n",
       "      <th>Variable</th>\n",
       "      <th>Description</th>\n",
       "    </tr>\n",
       "  </thead>\n",
       "  <tbody>\n",
       "    <tr>\n",
       "      <th>acc_now_delinq</th>\n",
       "      <th>The number of accounts on which the borrower is now delinquent.</th>\n",
       "    </tr>\n",
       "    <tr>\n",
       "      <th>application_type</th>\n",
       "      <th>Indicates whether the loan is an individual application or a joint application with two co-borrowers</th>\n",
       "    </tr>\n",
       "    <tr>\n",
       "      <th>chargeoff_within_12_mths</th>\n",
       "      <th>Number of charge-offs within 12 months</th>\n",
       "    </tr>\n",
       "    <tr>\n",
       "      <th>collection_recovery_fee</th>\n",
       "      <th>post charge off collection fee</th>\n",
       "    </tr>\n",
       "    <tr>\n",
       "      <th>collections_12_mths_ex_med</th>\n",
       "      <th>Number of collections in 12 months excluding medical collections</th>\n",
       "    </tr>\n",
       "    <tr>\n",
       "      <th>delinq_amnt</th>\n",
       "      <th>The past-due amount owed for the accounts on which the borrower is now delinquent.</th>\n",
       "    </tr>\n",
       "    <tr>\n",
       "      <th>last_credit_pull_d</th>\n",
       "      <th>The most recent month LC pulled credit for this loan</th>\n",
       "    </tr>\n",
       "    <tr>\n",
       "      <th>last_pymnt_amnt</th>\n",
       "      <th>Last total payment amount received</th>\n",
       "    </tr>\n",
       "    <tr>\n",
       "      <th>last_pymnt_d</th>\n",
       "      <th>Last month payment was received</th>\n",
       "    </tr>\n",
       "    <tr>\n",
       "      <th>policy_code</th>\n",
       "      <th>publicly available policy_code=1\\nnew products not publicly available policy_code=2</th>\n",
       "    </tr>\n",
       "    <tr>\n",
       "      <th>pub_rec_bankruptcies</th>\n",
       "      <th>Number of public record bankruptcies</th>\n",
       "    </tr>\n",
       "    <tr>\n",
       "      <th>recoveries</th>\n",
       "      <th>post charge off gross recovery</th>\n",
       "    </tr>\n",
       "    <tr>\n",
       "      <th>tax_liens</th>\n",
       "      <th>Number of tax liens</th>\n",
       "    </tr>\n",
       "  </tbody>\n",
       "</table>\n",
       "</div>"
      ],
      "text/plain": [
       "Empty DataFrame\n",
       "Columns: []\n",
       "Index: [(acc_now_delinq, The number of accounts on which the borrower is now delinquent.), (application_type, Indicates whether the loan is an individual application or a joint application with two co-borrowers), (chargeoff_within_12_mths, Number of charge-offs within 12 months), (collection_recovery_fee, post charge off collection fee), (collections_12_mths_ex_med, Number of collections in 12 months excluding medical collections), (delinq_amnt, The past-due amount owed for the accounts on which the borrower is now delinquent.), (last_credit_pull_d, The most recent month LC pulled credit for this loan), (last_pymnt_amnt, Last total payment amount received), (last_pymnt_d, Last month payment was received), (policy_code, publicly available policy_code=1\n",
       "new products not publicly available policy_code=2), (pub_rec_bankruptcies, Number of public record bankruptcies), (recoveries, post charge off gross recovery), (tax_liens, Number of tax liens)]"
      ]
     },
     "execution_count": 20,
     "metadata": {},
     "output_type": "execute_result"
    }
   ],
   "source": [
    "fourth_13 = ['recoveries','collection_recovery_fee', 'last_pymnt_d', 'last_pymnt_amnt','last_credit_pull_d',\n",
    "             'collections_12_mths_ex_med','policy_code','application_type','acc_now_delinq','chargeoff_within_12_mths',\n",
    "             'delinq_amnt','pub_rec_bankruptcies','tax_liens']\n",
    "df_table.loc[fourth_13]"
   ]
  },
  {
   "cell_type": "code",
   "execution_count": 21,
   "metadata": {
    "collapsed": true
   },
   "outputs": [],
   "source": [
    "loan_data = loan_data.drop(['recoveries', 'collection_recovery_fee', \n",
    "                              'last_pymnt_d', 'last_pymnt_amnt'], axis =1)"
   ]
  },
  {
   "cell_type": "code",
   "execution_count": 22,
   "metadata": {
    "collapsed": false
   },
   "outputs": [
    {
     "data": {
      "text/plain": [
       "(42538, 32)"
      ]
     },
     "execution_count": 22,
     "metadata": {},
     "output_type": "execute_result"
    }
   ],
   "source": [
    "loan_data.shape"
   ]
  },
  {
   "cell_type": "markdown",
   "metadata": {},
   "source": [
    "We now have 32 columns to work with. We removed 20 columns of unuseful information and this will make the data easier to process and fit with the machine learning algorithm. But we are not done."
   ]
  },
  {
   "cell_type": "markdown",
   "metadata": {},
   "source": [
    "### Target Column\n",
    "The target column is a critical part when fitting this type of data to machine learning algorithms because it tries to make prediction based on the outcome that we want. In this particular case, we want to predict the loan status (*`loan_status`*) which can take many values (9) in total. "
   ]
  },
  {
   "cell_type": "code",
   "execution_count": 23,
   "metadata": {
    "collapsed": false
   },
   "outputs": [
    {
     "data": {
      "text/plain": [
       "Fully Paid                                             34085\n",
       "Charged Off                                             5662\n",
       "Does not meet the credit policy. Status:Fully Paid      1988\n",
       "Does not meet the credit policy. Status:Charged Off      761\n",
       "Current                                                   19\n",
       "Late (31-120 days)                                         9\n",
       "In Grace Period                                            8\n",
       "Late (16-30 days)                                          2\n",
       "Default                                                    1\n",
       "Name: loan_status, dtype: int64"
      ]
     },
     "execution_count": 23,
     "metadata": {},
     "output_type": "execute_result"
    }
   ],
   "source": [
    "loan_data['loan_status'].value_counts()"
   ]
  },
  {
   "cell_type": "code",
   "execution_count": 24,
   "metadata": {
    "collapsed": false
   },
   "outputs": [
    {
     "data": {
      "image/png": "[encoded data removed]",
      "text/plain": [
       "<matplotlib.figure.Figure at 0x7f8906152310>"
      ]
     },
     "metadata": {},
     "output_type": "display_data"
    }
   ],
   "source": [
    "loan_data['loan_status'].value_counts().plot(kind= 'barh', color = 'orange', title = 'Possible Loan Status', alpha = 0.75)\n",
    "plt.show()\n"
   ]
  },
  {
   "cell_type": "markdown",
   "metadata": {},
   "source": [
    "We have 9 possibility for *`loan_status`* and only 2 values are important in our model's binary classification; fully paid and charged off. These 2 values indicate the result of the loan outcome. We will remove the other possibilities and avoid \"translating\" those values into the binary possibility (fully paid or charged off)."
   ]
  },
  {
   "cell_type": "code",
   "execution_count": 25,
   "metadata": {
    "collapsed": false
   },
   "outputs": [],
   "source": [
    "loan_data = loan_data[(loan_data['loan_status'] == \"Fully Paid\") | (loan_data['loan_status'] == \"Charged Off\")]"
   ]
  },
  {
   "cell_type": "code",
   "execution_count": 26,
   "metadata": {
    "collapsed": false
   },
   "outputs": [
    {
     "data": {
      "image/png": "[encoded data removed]",
      "text/plain": [
       "<matplotlib.figure.Figure at 0x7f8908b412d0>"
      ]
     },
     "metadata": {},
     "output_type": "display_data"
    }
   ],
   "source": [
    "loan_data['loan_status'].value_counts().plot(kind= 'barh', color = 'blue', title = 'Simplified Possible Loan Status', alpha = 0.55)\n",
    "plt.show()"
   ]
  },
  {
   "cell_type": "markdown",
   "metadata": {},
   "source": [
    "We need to change the object value to numerical for the algorithm processing. Let's use a dictionary."
   ]
  },
  {
   "cell_type": "code",
   "execution_count": 27,
   "metadata": {
    "collapsed": false
   },
   "outputs": [],
   "source": [
    "status_replace = {\n",
    "    \"loan_status\" : {\n",
    "        \"Fully Paid\": 1,\n",
    "        \"Charged Off\": 0,\n",
    "    }\n",
    "}\n",
    "loan_data = loan_data.replace(status_replace)"
   ]
  },
  {
   "cell_type": "code",
   "execution_count": 28,
   "metadata": {
    "collapsed": false
   },
   "outputs": [
    {
     "data": {
      "text/plain": [
       "1    34085\n",
       "0     5662\n",
       "Name: loan_status, dtype: int64"
      ]
     },
     "execution_count": 28,
     "metadata": {},
     "output_type": "execute_result"
    }
   ],
   "source": [
    "loan_data['loan_status'].value_counts()"
   ]
  },
  {
   "cell_type": "code",
   "execution_count": 29,
   "metadata": {
    "collapsed": false
   },
   "outputs": [
    {
     "data": {
      "text/plain": [
       "(39747, 32)"
      ]
     },
     "execution_count": 29,
     "metadata": {},
     "output_type": "execute_result"
    }
   ],
   "source": [
    "loan_data.shape"
   ]
  },
  {
   "cell_type": "markdown",
   "metadata": {},
   "source": [
    "### Final Data Cleaning\n",
    "Single value columns are not information that help our model, it does not provide any insight into the likelihood of default or repayment, and will be removed from the dataset."
   ]
  },
  {
   "cell_type": "code",
   "execution_count": 30,
   "metadata": {
    "collapsed": false
   },
   "outputs": [
    {
     "data": {
      "text/plain": [
       "['pymnt_plan',\n",
       " 'initial_list_status',\n",
       " 'collections_12_mths_ex_med',\n",
       " 'policy_code',\n",
       " 'application_type',\n",
       " 'acc_now_delinq',\n",
       " 'chargeoff_within_12_mths',\n",
       " 'delinq_amnt',\n",
       " 'tax_liens']"
      ]
     },
     "execution_count": 30,
     "metadata": {},
     "output_type": "execute_result"
    }
   ],
   "source": [
    "orig_columns = loan_data.columns\n",
    "drop_columns = []\n",
    "for col in orig_columns:\n",
    "    col_series = loan_data[col].dropna().unique()\n",
    "    if len(col_series) == 1:\n",
    "        drop_columns.append(col)\n",
    "loan_data = loan_data.drop(drop_columns, axis = 1)\n",
    "drop_columns"
   ]
  },
  {
   "cell_type": "code",
   "execution_count": 31,
   "metadata": {
    "collapsed": false
   },
   "outputs": [
    {
     "data": {
      "text/plain": [
       "(39747, 23)"
      ]
     },
     "execution_count": 31,
     "metadata": {},
     "output_type": "execute_result"
    }
   ],
   "source": [
    "loan_data.shape"
   ]
  },
  {
   "cell_type": "markdown",
   "metadata": {},
   "source": [
    "We were able to remove 9 columns and we are left with 23 features to work with. "
   ]
  },
  {
   "cell_type": "markdown",
   "metadata": {},
   "source": [
    "## III. Methodology"
   ]
  },
  {
   "cell_type": "markdown",
   "metadata": {},
   "source": [
    "### Preparing The Features: Dealing With Missing Values\n",
    "We start with the filtered *loan_data.csv* from the previous analysis. Do we have many Null values in the file loan_data? We will look at how we can handle these values. We need to deal with non-numeric value and null values, because scikit-learn assume that the values are numeric and filled, otherwise it could throw an error or miss evaluate the data."
   ]
  },
  {
   "cell_type": "code",
   "execution_count": 32,
   "metadata": {
    "collapsed": false,
    "scrolled": true
   },
   "outputs": [
    {
     "data": {
      "text/plain": [
       "loan_amnt                 0\n",
       "term                      0\n",
       "int_rate                  0\n",
       "installment               0\n",
       "emp_length                0\n",
       "home_ownership            0\n",
       "annual_inc                0\n",
       "verification_status       0\n",
       "loan_status               0\n",
       "purpose                   0\n",
       "title                    10\n",
       "addr_state                0\n",
       "dti                       0\n",
       "delinq_2yrs               0\n",
       "earliest_cr_line          0\n",
       "inq_last_6mths            0\n",
       "open_acc                  0\n",
       "pub_rec                   0\n",
       "revol_bal                 0\n",
       "revol_util               50\n",
       "total_acc                 0\n",
       "last_credit_pull_d        2\n",
       "pub_rec_bankruptcies    697\n",
       "dtype: int64"
      ]
     },
     "execution_count": 32,
     "metadata": {},
     "output_type": "execute_result"
    }
   ],
   "source": [
    "null_counts = loan_data.isnull().sum()\n",
    "null_counts"
   ]
  },
  {
   "cell_type": "markdown",
   "metadata": {},
   "source": [
    "We have 4 columns with missing values: 2 with *`last_credit_pull_d`*, 10 with *`title`*, 50 with *`revol_util`* and 697 with *`pub_rec_bankruptcies`* . Instead of removing the columns as we did earlier, we will remove the rows. We consider rows as incomplete (in a real life setting, we would reject the application simply because it is not complete)."
   ]
  },
  {
   "cell_type": "code",
   "execution_count": 33,
   "metadata": {
    "collapsed": false
   },
   "outputs": [],
   "source": [
    "loan_data = loan_data.drop(\"pub_rec_bankruptcies\", axis=1)\n",
    "loan_data = loan_data.dropna(axis=0)"
   ]
  },
  {
   "cell_type": "code",
   "execution_count": 34,
   "metadata": {
    "collapsed": false
   },
   "outputs": [
    {
     "data": {
      "text/plain": [
       "(39685, 22)"
      ]
     },
     "execution_count": 34,
     "metadata": {},
     "output_type": "execute_result"
    }
   ],
   "source": [
    "loan_data.shape"
   ]
  },
  {
   "cell_type": "markdown",
   "metadata": {},
   "source": [
    "### Handling Non-Numeric Data Types \n",
    "The data types of columns are important to look at and we will need to deal with non-numeric values in order to encode and use them in our machine learning algorithms. "
   ]
  },
  {
   "cell_type": "code",
   "execution_count": 35,
   "metadata": {
    "collapsed": false
   },
   "outputs": [
    {
     "name": "stdout",
     "output_type": "stream",
     "text": [
      "object     11\n",
      "float64    10\n",
      "int64       1\n",
      "dtype: int64\n"
     ]
    }
   ],
   "source": [
    "print(loan_data.dtypes.value_counts())"
   ]
  },
  {
   "cell_type": "markdown",
   "metadata": {},
   "source": [
    "We have 11 objects that need to be addressed, let's explore them."
   ]
  },
  {
   "cell_type": "code",
   "execution_count": 36,
   "metadata": {
    "collapsed": false
   },
   "outputs": [
    {
     "name": "stdout",
     "output_type": "stream",
     "text": [
      "term                     36 months\n",
      "int_rate                    10.65%\n",
      "emp_length               10+ years\n",
      "home_ownership                RENT\n",
      "verification_status       Verified\n",
      "purpose                credit_card\n",
      "title                     Computer\n",
      "addr_state                      AZ\n",
      "earliest_cr_line          Jan-1985\n",
      "revol_util                   83.7%\n",
      "last_credit_pull_d        Dec-2016\n",
      "Name: 0, dtype: object\n"
     ]
    }
   ],
   "source": [
    "object_columns_df = loan_data.select_dtypes(include=[\"object\"])\n",
    "print object_columns_df.iloc[0]"
   ]
  },
  {
   "cell_type": "markdown",
   "metadata": {},
   "source": [
    "Some of the data seems categorical, this means that we might be able to change it into numerical. Let's count the number of occurences of each column. \n",
    "\n",
    "- *`term`* is either 36 or 60. \n",
    "\n",
    "- *`emp_length`* is the \"Employment length in years. Possible values are between 0 and 10 where 0 means less than one year and 10 means ten or more years.\"\n",
    "\n",
    "- *`home_ownership`* can only be 1 of 4 categorical data.\n",
    "\n",
    "- *`verification_status`* \"Indicates if income was verified by (Lending Club), not verified, or if the income source was verified\". One of 2 choices. \n",
    "\n",
    "- *`addr_state`*: \"The state provided by the borrower in the loan application\""
   ]
  },
  {
   "cell_type": "code",
   "execution_count": 37,
   "metadata": {
    "collapsed": false
   },
   "outputs": [
    {
     "name": "stdout",
     "output_type": "stream",
     "text": [
      " 36 months    29041\n",
      " 60 months    10644\n",
      "Name: term, dtype: int64\n",
      " \n",
      "10+ years    8886\n",
      "< 1 year     4573\n",
      "2 years      4387\n",
      "3 years      4090\n",
      "4 years      3429\n",
      "5 years      3279\n",
      "1 year       3236\n",
      "6 years      2224\n",
      "7 years      1770\n",
      "8 years      1480\n",
      "9 years      1259\n",
      "n/a          1072\n",
      "Name: emp_length, dtype: int64\n",
      " \n",
      "RENT        18860\n",
      "MORTGAGE    17671\n",
      "OWN          3055\n",
      "OTHER          96\n",
      "NONE            3\n",
      "Name: home_ownership, dtype: int64\n",
      " \n",
      "Not Verified       16887\n",
      "Verified           12809\n",
      "Source Verified     9989\n",
      "Name: verification_status, dtype: int64\n",
      " \n",
      "CA    7091\n",
      "NY    3811\n",
      "FL    2866\n",
      "TX    2727\n",
      "NJ    1845\n",
      "IL    1523\n",
      "PA    1514\n",
      "VA    1406\n",
      "GA    1398\n",
      "MA    1342\n",
      "OH    1221\n",
      "MD    1052\n",
      "AZ     877\n",
      "WA     840\n",
      "CO     790\n",
      "NC     786\n",
      "CT     753\n",
      "MI     722\n",
      "MO     685\n",
      "MN     613\n",
      "NV     497\n",
      "SC     472\n",
      "WI     458\n",
      "AL     449\n",
      "OR     448\n",
      "LA     436\n",
      "KY     327\n",
      "OK     299\n",
      "KS     271\n",
      "UT     258\n",
      "AR     245\n",
      "DC     212\n",
      "RI     199\n",
      "NM     189\n",
      "WV     177\n",
      "HI     173\n",
      "NH     172\n",
      "DE     113\n",
      "MT      85\n",
      "WY      83\n",
      "AK      79\n",
      "SD      63\n",
      "VT      54\n",
      "MS      19\n",
      "TN      17\n",
      "IN       9\n",
      "ID       6\n",
      "IA       5\n",
      "NE       5\n",
      "ME       3\n",
      "Name: addr_state, dtype: int64\n",
      " \n"
     ]
    }
   ],
   "source": [
    "columns = ['term', 'emp_length', 'home_ownership', 'verification_status', 'addr_state']\n",
    "for col in columns:\n",
    "    print loan_data[col].value_counts()\n",
    "    print \" \""
   ]
  },
  {
   "cell_type": "markdown",
   "metadata": {},
   "source": [
    "The previous four columns contain a couple categorical values, we will encode them as dummy variables for our model. We will remove the *`addr_state`* because if we were to encode all these variables, we would make our dataframe quite large and would slow the computation done by our machine learning algorithm."
   ]
  },
  {
   "cell_type": "markdown",
   "metadata": {},
   "source": [
    "Let's now take a look at the next columns:\n",
    "- *`purpose`* is \"a category provided by the borrower for the loan request\". \n",
    "\n",
    "- *`title`* : \"The loan title provided by the borrower\"\n"
   ]
  },
  {
   "cell_type": "code",
   "execution_count": 38,
   "metadata": {
    "collapsed": false
   },
   "outputs": [
    {
     "name": "stdout",
     "output_type": "stream",
     "text": [
      "debt_consolidation    18636\n",
      "credit_card            5129\n",
      "other                  3982\n",
      "home_improvement       2979\n",
      "major_purchase         2181\n",
      "small_business         1823\n",
      "car                    1549\n",
      "wedding                 947\n",
      "medical                 693\n",
      "moving                  581\n",
      "house                   382\n",
      "vacation                380\n",
      "educational             320\n",
      "renewable_energy        103\n",
      "Name: purpose, dtype: int64\n",
      " \n",
      "Debt Consolidation                        2185\n",
      "Debt Consolidation Loan                   1727\n",
      "Personal Loan                              661\n",
      "Consolidation                              514\n",
      "debt consolidation                         507\n",
      "Home Improvement                           357\n",
      "Credit Card Consolidation                  357\n",
      "Debt consolidation                         334\n",
      "Small Business Loan                        328\n",
      "Credit Card Loan                           318\n",
      "Personal                                   308\n",
      "Consolidation Loan                         256\n",
      "Home Improvement Loan                      248\n",
      "personal loan                              234\n",
      "personal                                   220\n",
      "Loan                                       213\n",
      "Wedding Loan                               209\n",
      "consolidation                              205\n",
      "Car Loan                                   204\n",
      "Other Loan                                 192\n",
      "Credit Card Payoff                         155\n",
      "Wedding                                    154\n",
      "Major Purchase Loan                        144\n",
      "Credit Card Refinance                      144\n",
      "Consolidate                                127\n",
      "Medical                                    122\n",
      "Credit Card                                118\n",
      "home improvement                           112\n",
      "My Loan                                     94\n",
      "Credit Cards                                93\n",
      "                                          ... \n",
      "home improv                                  1\n",
      "Outstanding Credit                           1\n",
      "DebtConsolidationn                           1\n",
      "Credit Card Consolidation Loan - SEG         1\n",
      "working hard to get out of debt              1\n",
      "Go for Broke                                 1\n",
      "SOLAR PV                                     1\n",
      "To pay off balloon payments due              1\n",
      "Paying off the debt                          1\n",
      "Payoff ING PLOC                              1\n",
      "Josh CC Loan                                 1\n",
      "Startup Money for Small Business             1\n",
      "cart loan                                    1\n",
      "bank of america loan                         1\n",
      "engagement                                   1\n",
      "refinance loan                               1\n",
      "FundToFinanceCar                             1\n",
      "Dougs Wedding Loan                           1\n",
      "d rock                                       1\n",
      "LC Loan 2                                    1\n",
      "swimming pool repair                         1\n",
      "Cut the credit cards Loan                    1\n",
      "Baby on the way!                             1\n",
      "getting ready for Baby                       1\n",
      "vinman                                       1\n",
      "consolidate the rest of my debt              1\n",
      "Medical/Vacation                             1\n",
      "2BDebtFree                                   1\n",
      "Paying Off High Interest Credit Cards!       1\n",
      "Consolidaton                                 1\n",
      "Name: title, dtype: int64\n"
     ]
    }
   ],
   "source": [
    "print loan_data[\"purpose\"].value_counts()\n",
    "print (\" \")\n",
    "print loan_data[\"title\"].value_counts()"
   ]
  },
  {
   "cell_type": "markdown",
   "metadata": {},
   "source": [
    "The 2 columns seem to have similar information. We will keep the *`purpose`* column as the *`title`* column is probably added by the customer and can vary. The purpose is streamlined in comparison with the *`title`* containing a lot of the same just under a different form (debt consolidation written in different ways)."
   ]
  },
  {
   "cell_type": "markdown",
   "metadata": {},
   "source": [
    "The next values are dates.\n",
    "\n",
    "- *`earliest_cr_line`*: \"The month the borrower's earliest reported credit line was opened\"\n",
    "\n",
    "- *`last_credit_pull_d`*: \"The most recent month LC pulled credit for this loan\"\n",
    "\n",
    "\n",
    "These values are a already numerical, but mean something else. \n",
    "- *`int_rate`* is the percentage of the interest, that way we know that it is x%.\n",
    "\n",
    "- *`revol_util`*: \"Revolving line utilization rate, or the amount of credit the borrower is using relative to all available revolving credit.\""
   ]
  },
  {
   "cell_type": "markdown",
   "metadata": {},
   "source": [
    "The reason the loan was asked for. "
   ]
  },
  {
   "cell_type": "markdown",
   "metadata": {},
   "source": [
    "We need to encode categorical value with dummy variables. "
   ]
  },
  {
   "cell_type": "code",
   "execution_count": 39,
   "metadata": {
    "collapsed": true
   },
   "outputs": [],
   "source": [
    "mapping_dict = {\n",
    "    \"emp_length\": {\n",
    "        \"10+ years\": 10,\n",
    "        \"9 years\": 9,\n",
    "        \"8 years\": 8,\n",
    "        \"7 years\": 7,\n",
    "        \"6 years\": 6,\n",
    "        \"5 years\": 5,\n",
    "        \"4 years\": 4,\n",
    "        \"3 years\": 3,\n",
    "        \"2 years\": 2,\n",
    "        \"1 year\": 1,\n",
    "        \"< 1 year\": 0,\n",
    "        \"n/a\": 0\n",
    "    }\n",
    "}\n",
    "loan_data = loan_data.drop([\"last_credit_pull_d\", \"earliest_cr_line\", \"addr_state\", \"title\"], axis=1)\n",
    "loan_data[\"int_rate\"] = loan_data[\"int_rate\"].str.rstrip(\"%\").astype(\"float\")\n",
    "loan_data[\"revol_util\"] = loan_data[\"revol_util\"].str.rstrip(\"%\").astype(\"float\")\n",
    "loan_data = loan_data.replace(mapping_dict)"
   ]
  },
  {
   "cell_type": "markdown",
   "metadata": {},
   "source": [
    "Now, let's encode the previous variables."
   ]
  },
  {
   "cell_type": "code",
   "execution_count": 40,
   "metadata": {
    "collapsed": false
   },
   "outputs": [],
   "source": [
    "categorical_columns = [\"home_ownership\", \"verification_status\", \"emp_length\", \"purpose\", \"term\"]\n",
    "dummy_df = pd.get_dummies(loan_data[categorical_columns])\n",
    "loan_data = pd.concat([loan_data, dummy_df], axis=1)\n",
    "loan_data = loan_data.drop(categorical_columns, axis=1)"
   ]
  },
  {
   "cell_type": "code",
   "execution_count": 41,
   "metadata": {
    "collapsed": false
   },
   "outputs": [
    {
     "data": {
      "text/html": [
       "<div>\n",
       "<table border=\"1\" class=\"dataframe\">\n",
       "  <thead>\n",
       "    <tr style=\"text-align: right;\">\n",
       "      <th></th>\n",
       "      <th>loan_amnt</th>\n",
       "      <th>int_rate</th>\n",
       "      <th>installment</th>\n",
       "      <th>annual_inc</th>\n",
       "      <th>loan_status</th>\n",
       "      <th>dti</th>\n",
       "      <th>delinq_2yrs</th>\n",
       "      <th>inq_last_6mths</th>\n",
       "      <th>open_acc</th>\n",
       "      <th>pub_rec</th>\n",
       "      <th>...</th>\n",
       "      <th>purpose_major_purchase</th>\n",
       "      <th>purpose_medical</th>\n",
       "      <th>purpose_moving</th>\n",
       "      <th>purpose_other</th>\n",
       "      <th>purpose_renewable_energy</th>\n",
       "      <th>purpose_small_business</th>\n",
       "      <th>purpose_vacation</th>\n",
       "      <th>purpose_wedding</th>\n",
       "      <th>term_ 36 months</th>\n",
       "      <th>term_ 60 months</th>\n",
       "    </tr>\n",
       "  </thead>\n",
       "  <tbody>\n",
       "    <tr>\n",
       "      <th>0</th>\n",
       "      <td>5000.0</td>\n",
       "      <td>10.65</td>\n",
       "      <td>162.87</td>\n",
       "      <td>24000.0</td>\n",
       "      <td>1</td>\n",
       "      <td>27.65</td>\n",
       "      <td>0.0</td>\n",
       "      <td>1.0</td>\n",
       "      <td>3.0</td>\n",
       "      <td>0.0</td>\n",
       "      <td>...</td>\n",
       "      <td>0.0</td>\n",
       "      <td>0.0</td>\n",
       "      <td>0.0</td>\n",
       "      <td>0.0</td>\n",
       "      <td>0.0</td>\n",
       "      <td>0.0</td>\n",
       "      <td>0.0</td>\n",
       "      <td>0.0</td>\n",
       "      <td>1.0</td>\n",
       "      <td>0.0</td>\n",
       "    </tr>\n",
       "    <tr>\n",
       "      <th>1</th>\n",
       "      <td>2500.0</td>\n",
       "      <td>15.27</td>\n",
       "      <td>59.83</td>\n",
       "      <td>30000.0</td>\n",
       "      <td>0</td>\n",
       "      <td>1.00</td>\n",
       "      <td>0.0</td>\n",
       "      <td>5.0</td>\n",
       "      <td>3.0</td>\n",
       "      <td>0.0</td>\n",
       "      <td>...</td>\n",
       "      <td>0.0</td>\n",
       "      <td>0.0</td>\n",
       "      <td>0.0</td>\n",
       "      <td>0.0</td>\n",
       "      <td>0.0</td>\n",
       "      <td>0.0</td>\n",
       "      <td>0.0</td>\n",
       "      <td>0.0</td>\n",
       "      <td>0.0</td>\n",
       "      <td>1.0</td>\n",
       "    </tr>\n",
       "    <tr>\n",
       "      <th>2</th>\n",
       "      <td>2400.0</td>\n",
       "      <td>15.96</td>\n",
       "      <td>84.33</td>\n",
       "      <td>12252.0</td>\n",
       "      <td>1</td>\n",
       "      <td>8.72</td>\n",
       "      <td>0.0</td>\n",
       "      <td>2.0</td>\n",
       "      <td>2.0</td>\n",
       "      <td>0.0</td>\n",
       "      <td>...</td>\n",
       "      <td>0.0</td>\n",
       "      <td>0.0</td>\n",
       "      <td>0.0</td>\n",
       "      <td>0.0</td>\n",
       "      <td>0.0</td>\n",
       "      <td>1.0</td>\n",
       "      <td>0.0</td>\n",
       "      <td>0.0</td>\n",
       "      <td>1.0</td>\n",
       "      <td>0.0</td>\n",
       "    </tr>\n",
       "    <tr>\n",
       "      <th>3</th>\n",
       "      <td>10000.0</td>\n",
       "      <td>13.49</td>\n",
       "      <td>339.31</td>\n",
       "      <td>49200.0</td>\n",
       "      <td>1</td>\n",
       "      <td>20.00</td>\n",
       "      <td>0.0</td>\n",
       "      <td>1.0</td>\n",
       "      <td>10.0</td>\n",
       "      <td>0.0</td>\n",
       "      <td>...</td>\n",
       "      <td>0.0</td>\n",
       "      <td>0.0</td>\n",
       "      <td>0.0</td>\n",
       "      <td>1.0</td>\n",
       "      <td>0.0</td>\n",
       "      <td>0.0</td>\n",
       "      <td>0.0</td>\n",
       "      <td>0.0</td>\n",
       "      <td>1.0</td>\n",
       "      <td>0.0</td>\n",
       "    </tr>\n",
       "    <tr>\n",
       "      <th>5</th>\n",
       "      <td>5000.0</td>\n",
       "      <td>7.90</td>\n",
       "      <td>156.46</td>\n",
       "      <td>36000.0</td>\n",
       "      <td>1</td>\n",
       "      <td>11.20</td>\n",
       "      <td>0.0</td>\n",
       "      <td>3.0</td>\n",
       "      <td>9.0</td>\n",
       "      <td>0.0</td>\n",
       "      <td>...</td>\n",
       "      <td>0.0</td>\n",
       "      <td>0.0</td>\n",
       "      <td>0.0</td>\n",
       "      <td>0.0</td>\n",
       "      <td>0.0</td>\n",
       "      <td>0.0</td>\n",
       "      <td>0.0</td>\n",
       "      <td>1.0</td>\n",
       "      <td>1.0</td>\n",
       "      <td>0.0</td>\n",
       "    </tr>\n",
       "  </tbody>\n",
       "</table>\n",
       "<p>5 rows × 37 columns</p>\n",
       "</div>"
      ],
      "text/plain": [
       "   loan_amnt  int_rate  installment  annual_inc  loan_status    dti  \\\n",
       "0     5000.0     10.65       162.87     24000.0            1  27.65   \n",
       "1     2500.0     15.27        59.83     30000.0            0   1.00   \n",
       "2     2400.0     15.96        84.33     12252.0            1   8.72   \n",
       "3    10000.0     13.49       339.31     49200.0            1  20.00   \n",
       "5     5000.0      7.90       156.46     36000.0            1  11.20   \n",
       "\n",
       "   delinq_2yrs  inq_last_6mths  open_acc  pub_rec       ...         \\\n",
       "0          0.0             1.0       3.0      0.0       ...          \n",
       "1          0.0             5.0       3.0      0.0       ...          \n",
       "2          0.0             2.0       2.0      0.0       ...          \n",
       "3          0.0             1.0      10.0      0.0       ...          \n",
       "5          0.0             3.0       9.0      0.0       ...          \n",
       "\n",
       "   purpose_major_purchase  purpose_medical  purpose_moving  purpose_other  \\\n",
       "0                     0.0              0.0             0.0            0.0   \n",
       "1                     0.0              0.0             0.0            0.0   \n",
       "2                     0.0              0.0             0.0            0.0   \n",
       "3                     0.0              0.0             0.0            1.0   \n",
       "5                     0.0              0.0             0.0            0.0   \n",
       "\n",
       "   purpose_renewable_energy  purpose_small_business  purpose_vacation  \\\n",
       "0                       0.0                     0.0               0.0   \n",
       "1                       0.0                     0.0               0.0   \n",
       "2                       0.0                     1.0               0.0   \n",
       "3                       0.0                     0.0               0.0   \n",
       "5                       0.0                     0.0               0.0   \n",
       "\n",
       "   purpose_wedding  term_ 36 months  term_ 60 months  \n",
       "0              0.0              1.0              0.0  \n",
       "1              0.0              0.0              1.0  \n",
       "2              0.0              1.0              0.0  \n",
       "3              0.0              1.0              0.0  \n",
       "5              1.0              1.0              0.0  \n",
       "\n",
       "[5 rows x 37 columns]"
      ]
     },
     "execution_count": 41,
     "metadata": {},
     "output_type": "execute_result"
    }
   ],
   "source": [
    "loan_data.head()"
   ]
  },
  {
   "cell_type": "code",
   "execution_count": 42,
   "metadata": {
    "collapsed": true
   },
   "outputs": [],
   "source": [
    "# cleaned and filtered data to csv\n",
    "loan_data.to_csv('clean_loan_data.csv', index = False)"
   ]
  },
  {
   "cell_type": "markdown",
   "metadata": {},
   "source": [
    "## IV. Model Evaluation And Validation\n",
    "### Machine Learning Algorithm Fitting\n",
    "In this part, now that we have cleaned the dataset and encoded the variable with dummy encoding to process categorical data, let's dive in the first machine learning algorithm that we will try to use on the data set. But before, let's see the result of our work on the dataset."
   ]
  },
  {
   "cell_type": "code",
   "execution_count": 43,
   "metadata": {
    "collapsed": true
   },
   "outputs": [],
   "source": [
    "loan_data = pd.read_csv('clean_loan_data.csv')"
   ]
  },
  {
   "cell_type": "code",
   "execution_count": 44,
   "metadata": {
    "collapsed": false
   },
   "outputs": [
    {
     "data": {
      "text/html": [
       "<div>\n",
       "<table border=\"1\" class=\"dataframe\">\n",
       "  <thead>\n",
       "    <tr style=\"text-align: right;\">\n",
       "      <th></th>\n",
       "      <th>loan_amnt</th>\n",
       "      <th>int_rate</th>\n",
       "      <th>installment</th>\n",
       "      <th>annual_inc</th>\n",
       "      <th>loan_status</th>\n",
       "      <th>dti</th>\n",
       "      <th>delinq_2yrs</th>\n",
       "      <th>inq_last_6mths</th>\n",
       "      <th>open_acc</th>\n",
       "      <th>pub_rec</th>\n",
       "      <th>...</th>\n",
       "      <th>purpose_major_purchase</th>\n",
       "      <th>purpose_medical</th>\n",
       "      <th>purpose_moving</th>\n",
       "      <th>purpose_other</th>\n",
       "      <th>purpose_renewable_energy</th>\n",
       "      <th>purpose_small_business</th>\n",
       "      <th>purpose_vacation</th>\n",
       "      <th>purpose_wedding</th>\n",
       "      <th>term_ 36 months</th>\n",
       "      <th>term_ 60 months</th>\n",
       "    </tr>\n",
       "  </thead>\n",
       "  <tbody>\n",
       "    <tr>\n",
       "      <th>0</th>\n",
       "      <td>5000.0</td>\n",
       "      <td>10.65</td>\n",
       "      <td>162.87</td>\n",
       "      <td>24000.00</td>\n",
       "      <td>1</td>\n",
       "      <td>27.65</td>\n",
       "      <td>0.0</td>\n",
       "      <td>1.0</td>\n",
       "      <td>3.0</td>\n",
       "      <td>0.0</td>\n",
       "      <td>...</td>\n",
       "      <td>0.0</td>\n",
       "      <td>0.0</td>\n",
       "      <td>0.0</td>\n",
       "      <td>0.0</td>\n",
       "      <td>0.0</td>\n",
       "      <td>0.0</td>\n",
       "      <td>0.0</td>\n",
       "      <td>0.0</td>\n",
       "      <td>1.0</td>\n",
       "      <td>0.0</td>\n",
       "    </tr>\n",
       "    <tr>\n",
       "      <th>1</th>\n",
       "      <td>2500.0</td>\n",
       "      <td>15.27</td>\n",
       "      <td>59.83</td>\n",
       "      <td>30000.00</td>\n",
       "      <td>0</td>\n",
       "      <td>1.00</td>\n",
       "      <td>0.0</td>\n",
       "      <td>5.0</td>\n",
       "      <td>3.0</td>\n",
       "      <td>0.0</td>\n",
       "      <td>...</td>\n",
       "      <td>0.0</td>\n",
       "      <td>0.0</td>\n",
       "      <td>0.0</td>\n",
       "      <td>0.0</td>\n",
       "      <td>0.0</td>\n",
       "      <td>0.0</td>\n",
       "      <td>0.0</td>\n",
       "      <td>0.0</td>\n",
       "      <td>0.0</td>\n",
       "      <td>1.0</td>\n",
       "    </tr>\n",
       "    <tr>\n",
       "      <th>2</th>\n",
       "      <td>2400.0</td>\n",
       "      <td>15.96</td>\n",
       "      <td>84.33</td>\n",
       "      <td>12252.00</td>\n",
       "      <td>1</td>\n",
       "      <td>8.72</td>\n",
       "      <td>0.0</td>\n",
       "      <td>2.0</td>\n",
       "      <td>2.0</td>\n",
       "      <td>0.0</td>\n",
       "      <td>...</td>\n",
       "      <td>0.0</td>\n",
       "      <td>0.0</td>\n",
       "      <td>0.0</td>\n",
       "      <td>0.0</td>\n",
       "      <td>0.0</td>\n",
       "      <td>1.0</td>\n",
       "      <td>0.0</td>\n",
       "      <td>0.0</td>\n",
       "      <td>1.0</td>\n",
       "      <td>0.0</td>\n",
       "    </tr>\n",
       "    <tr>\n",
       "      <th>3</th>\n",
       "      <td>10000.0</td>\n",
       "      <td>13.49</td>\n",
       "      <td>339.31</td>\n",
       "      <td>49200.00</td>\n",
       "      <td>1</td>\n",
       "      <td>20.00</td>\n",
       "      <td>0.0</td>\n",
       "      <td>1.0</td>\n",
       "      <td>10.0</td>\n",
       "      <td>0.0</td>\n",
       "      <td>...</td>\n",
       "      <td>0.0</td>\n",
       "      <td>0.0</td>\n",
       "      <td>0.0</td>\n",
       "      <td>1.0</td>\n",
       "      <td>0.0</td>\n",
       "      <td>0.0</td>\n",
       "      <td>0.0</td>\n",
       "      <td>0.0</td>\n",
       "      <td>1.0</td>\n",
       "      <td>0.0</td>\n",
       "    </tr>\n",
       "    <tr>\n",
       "      <th>4</th>\n",
       "      <td>5000.0</td>\n",
       "      <td>7.90</td>\n",
       "      <td>156.46</td>\n",
       "      <td>36000.00</td>\n",
       "      <td>1</td>\n",
       "      <td>11.20</td>\n",
       "      <td>0.0</td>\n",
       "      <td>3.0</td>\n",
       "      <td>9.0</td>\n",
       "      <td>0.0</td>\n",
       "      <td>...</td>\n",
       "      <td>0.0</td>\n",
       "      <td>0.0</td>\n",
       "      <td>0.0</td>\n",
       "      <td>0.0</td>\n",
       "      <td>0.0</td>\n",
       "      <td>0.0</td>\n",
       "      <td>0.0</td>\n",
       "      <td>1.0</td>\n",
       "      <td>1.0</td>\n",
       "      <td>0.0</td>\n",
       "    </tr>\n",
       "    <tr>\n",
       "      <th>5</th>\n",
       "      <td>7000.0</td>\n",
       "      <td>15.96</td>\n",
       "      <td>170.08</td>\n",
       "      <td>47004.00</td>\n",
       "      <td>1</td>\n",
       "      <td>23.51</td>\n",
       "      <td>0.0</td>\n",
       "      <td>1.0</td>\n",
       "      <td>7.0</td>\n",
       "      <td>0.0</td>\n",
       "      <td>...</td>\n",
       "      <td>0.0</td>\n",
       "      <td>0.0</td>\n",
       "      <td>0.0</td>\n",
       "      <td>0.0</td>\n",
       "      <td>0.0</td>\n",
       "      <td>0.0</td>\n",
       "      <td>0.0</td>\n",
       "      <td>0.0</td>\n",
       "      <td>0.0</td>\n",
       "      <td>1.0</td>\n",
       "    </tr>\n",
       "    <tr>\n",
       "      <th>6</th>\n",
       "      <td>3000.0</td>\n",
       "      <td>18.64</td>\n",
       "      <td>109.43</td>\n",
       "      <td>48000.00</td>\n",
       "      <td>1</td>\n",
       "      <td>5.35</td>\n",
       "      <td>0.0</td>\n",
       "      <td>2.0</td>\n",
       "      <td>4.0</td>\n",
       "      <td>0.0</td>\n",
       "      <td>...</td>\n",
       "      <td>0.0</td>\n",
       "      <td>0.0</td>\n",
       "      <td>0.0</td>\n",
       "      <td>0.0</td>\n",
       "      <td>0.0</td>\n",
       "      <td>0.0</td>\n",
       "      <td>0.0</td>\n",
       "      <td>0.0</td>\n",
       "      <td>1.0</td>\n",
       "      <td>0.0</td>\n",
       "    </tr>\n",
       "    <tr>\n",
       "      <th>7</th>\n",
       "      <td>5600.0</td>\n",
       "      <td>21.28</td>\n",
       "      <td>152.39</td>\n",
       "      <td>40000.00</td>\n",
       "      <td>0</td>\n",
       "      <td>5.55</td>\n",
       "      <td>0.0</td>\n",
       "      <td>2.0</td>\n",
       "      <td>11.0</td>\n",
       "      <td>0.0</td>\n",
       "      <td>...</td>\n",
       "      <td>0.0</td>\n",
       "      <td>0.0</td>\n",
       "      <td>0.0</td>\n",
       "      <td>0.0</td>\n",
       "      <td>0.0</td>\n",
       "      <td>1.0</td>\n",
       "      <td>0.0</td>\n",
       "      <td>0.0</td>\n",
       "      <td>0.0</td>\n",
       "      <td>1.0</td>\n",
       "    </tr>\n",
       "    <tr>\n",
       "      <th>8</th>\n",
       "      <td>5375.0</td>\n",
       "      <td>12.69</td>\n",
       "      <td>121.45</td>\n",
       "      <td>15000.00</td>\n",
       "      <td>0</td>\n",
       "      <td>18.08</td>\n",
       "      <td>0.0</td>\n",
       "      <td>0.0</td>\n",
       "      <td>2.0</td>\n",
       "      <td>0.0</td>\n",
       "      <td>...</td>\n",
       "      <td>0.0</td>\n",
       "      <td>0.0</td>\n",
       "      <td>0.0</td>\n",
       "      <td>1.0</td>\n",
       "      <td>0.0</td>\n",
       "      <td>0.0</td>\n",
       "      <td>0.0</td>\n",
       "      <td>0.0</td>\n",
       "      <td>0.0</td>\n",
       "      <td>1.0</td>\n",
       "    </tr>\n",
       "    <tr>\n",
       "      <th>9</th>\n",
       "      <td>6500.0</td>\n",
       "      <td>14.65</td>\n",
       "      <td>153.45</td>\n",
       "      <td>72000.00</td>\n",
       "      <td>1</td>\n",
       "      <td>16.12</td>\n",
       "      <td>0.0</td>\n",
       "      <td>2.0</td>\n",
       "      <td>14.0</td>\n",
       "      <td>0.0</td>\n",
       "      <td>...</td>\n",
       "      <td>0.0</td>\n",
       "      <td>0.0</td>\n",
       "      <td>0.0</td>\n",
       "      <td>0.0</td>\n",
       "      <td>0.0</td>\n",
       "      <td>0.0</td>\n",
       "      <td>0.0</td>\n",
       "      <td>0.0</td>\n",
       "      <td>0.0</td>\n",
       "      <td>1.0</td>\n",
       "    </tr>\n",
       "    <tr>\n",
       "      <th>10</th>\n",
       "      <td>12000.0</td>\n",
       "      <td>12.69</td>\n",
       "      <td>402.54</td>\n",
       "      <td>75000.00</td>\n",
       "      <td>1</td>\n",
       "      <td>10.78</td>\n",
       "      <td>0.0</td>\n",
       "      <td>0.0</td>\n",
       "      <td>12.0</td>\n",
       "      <td>0.0</td>\n",
       "      <td>...</td>\n",
       "      <td>0.0</td>\n",
       "      <td>0.0</td>\n",
       "      <td>0.0</td>\n",
       "      <td>0.0</td>\n",
       "      <td>0.0</td>\n",
       "      <td>0.0</td>\n",
       "      <td>0.0</td>\n",
       "      <td>0.0</td>\n",
       "      <td>1.0</td>\n",
       "      <td>0.0</td>\n",
       "    </tr>\n",
       "    <tr>\n",
       "      <th>11</th>\n",
       "      <td>9000.0</td>\n",
       "      <td>13.49</td>\n",
       "      <td>305.38</td>\n",
       "      <td>30000.00</td>\n",
       "      <td>0</td>\n",
       "      <td>10.08</td>\n",
       "      <td>0.0</td>\n",
       "      <td>1.0</td>\n",
       "      <td>4.0</td>\n",
       "      <td>0.0</td>\n",
       "      <td>...</td>\n",
       "      <td>0.0</td>\n",
       "      <td>0.0</td>\n",
       "      <td>0.0</td>\n",
       "      <td>0.0</td>\n",
       "      <td>0.0</td>\n",
       "      <td>0.0</td>\n",
       "      <td>0.0</td>\n",
       "      <td>0.0</td>\n",
       "      <td>1.0</td>\n",
       "      <td>0.0</td>\n",
       "    </tr>\n",
       "    <tr>\n",
       "      <th>12</th>\n",
       "      <td>3000.0</td>\n",
       "      <td>9.91</td>\n",
       "      <td>96.68</td>\n",
       "      <td>15000.00</td>\n",
       "      <td>1</td>\n",
       "      <td>12.56</td>\n",
       "      <td>0.0</td>\n",
       "      <td>2.0</td>\n",
       "      <td>11.0</td>\n",
       "      <td>0.0</td>\n",
       "      <td>...</td>\n",
       "      <td>0.0</td>\n",
       "      <td>0.0</td>\n",
       "      <td>0.0</td>\n",
       "      <td>0.0</td>\n",
       "      <td>0.0</td>\n",
       "      <td>0.0</td>\n",
       "      <td>0.0</td>\n",
       "      <td>0.0</td>\n",
       "      <td>1.0</td>\n",
       "      <td>0.0</td>\n",
       "    </tr>\n",
       "    <tr>\n",
       "      <th>13</th>\n",
       "      <td>10000.0</td>\n",
       "      <td>10.65</td>\n",
       "      <td>325.74</td>\n",
       "      <td>100000.00</td>\n",
       "      <td>0</td>\n",
       "      <td>7.06</td>\n",
       "      <td>0.0</td>\n",
       "      <td>2.0</td>\n",
       "      <td>14.0</td>\n",
       "      <td>0.0</td>\n",
       "      <td>...</td>\n",
       "      <td>0.0</td>\n",
       "      <td>0.0</td>\n",
       "      <td>0.0</td>\n",
       "      <td>1.0</td>\n",
       "      <td>0.0</td>\n",
       "      <td>0.0</td>\n",
       "      <td>0.0</td>\n",
       "      <td>0.0</td>\n",
       "      <td>1.0</td>\n",
       "      <td>0.0</td>\n",
       "    </tr>\n",
       "    <tr>\n",
       "      <th>14</th>\n",
       "      <td>1000.0</td>\n",
       "      <td>16.29</td>\n",
       "      <td>35.31</td>\n",
       "      <td>28000.00</td>\n",
       "      <td>1</td>\n",
       "      <td>20.31</td>\n",
       "      <td>0.0</td>\n",
       "      <td>1.0</td>\n",
       "      <td>11.0</td>\n",
       "      <td>0.0</td>\n",
       "      <td>...</td>\n",
       "      <td>0.0</td>\n",
       "      <td>0.0</td>\n",
       "      <td>0.0</td>\n",
       "      <td>0.0</td>\n",
       "      <td>0.0</td>\n",
       "      <td>0.0</td>\n",
       "      <td>0.0</td>\n",
       "      <td>0.0</td>\n",
       "      <td>1.0</td>\n",
       "      <td>0.0</td>\n",
       "    </tr>\n",
       "    <tr>\n",
       "      <th>15</th>\n",
       "      <td>10000.0</td>\n",
       "      <td>15.27</td>\n",
       "      <td>347.98</td>\n",
       "      <td>42000.00</td>\n",
       "      <td>1</td>\n",
       "      <td>18.60</td>\n",
       "      <td>0.0</td>\n",
       "      <td>2.0</td>\n",
       "      <td>14.0</td>\n",
       "      <td>0.0</td>\n",
       "      <td>...</td>\n",
       "      <td>0.0</td>\n",
       "      <td>0.0</td>\n",
       "      <td>0.0</td>\n",
       "      <td>0.0</td>\n",
       "      <td>0.0</td>\n",
       "      <td>0.0</td>\n",
       "      <td>0.0</td>\n",
       "      <td>0.0</td>\n",
       "      <td>1.0</td>\n",
       "      <td>0.0</td>\n",
       "    </tr>\n",
       "    <tr>\n",
       "      <th>16</th>\n",
       "      <td>3600.0</td>\n",
       "      <td>6.03</td>\n",
       "      <td>109.57</td>\n",
       "      <td>110000.00</td>\n",
       "      <td>1</td>\n",
       "      <td>10.52</td>\n",
       "      <td>0.0</td>\n",
       "      <td>0.0</td>\n",
       "      <td>20.0</td>\n",
       "      <td>0.0</td>\n",
       "      <td>...</td>\n",
       "      <td>1.0</td>\n",
       "      <td>0.0</td>\n",
       "      <td>0.0</td>\n",
       "      <td>0.0</td>\n",
       "      <td>0.0</td>\n",
       "      <td>0.0</td>\n",
       "      <td>0.0</td>\n",
       "      <td>0.0</td>\n",
       "      <td>1.0</td>\n",
       "      <td>0.0</td>\n",
       "    </tr>\n",
       "    <tr>\n",
       "      <th>17</th>\n",
       "      <td>6000.0</td>\n",
       "      <td>11.71</td>\n",
       "      <td>198.46</td>\n",
       "      <td>84000.00</td>\n",
       "      <td>1</td>\n",
       "      <td>18.44</td>\n",
       "      <td>2.0</td>\n",
       "      <td>0.0</td>\n",
       "      <td>4.0</td>\n",
       "      <td>0.0</td>\n",
       "      <td>...</td>\n",
       "      <td>0.0</td>\n",
       "      <td>1.0</td>\n",
       "      <td>0.0</td>\n",
       "      <td>0.0</td>\n",
       "      <td>0.0</td>\n",
       "      <td>0.0</td>\n",
       "      <td>0.0</td>\n",
       "      <td>0.0</td>\n",
       "      <td>1.0</td>\n",
       "      <td>0.0</td>\n",
       "    </tr>\n",
       "    <tr>\n",
       "      <th>18</th>\n",
       "      <td>9200.0</td>\n",
       "      <td>6.03</td>\n",
       "      <td>280.01</td>\n",
       "      <td>77385.19</td>\n",
       "      <td>1</td>\n",
       "      <td>9.86</td>\n",
       "      <td>0.0</td>\n",
       "      <td>0.0</td>\n",
       "      <td>8.0</td>\n",
       "      <td>0.0</td>\n",
       "      <td>...</td>\n",
       "      <td>0.0</td>\n",
       "      <td>0.0</td>\n",
       "      <td>0.0</td>\n",
       "      <td>0.0</td>\n",
       "      <td>0.0</td>\n",
       "      <td>0.0</td>\n",
       "      <td>0.0</td>\n",
       "      <td>0.0</td>\n",
       "      <td>1.0</td>\n",
       "      <td>0.0</td>\n",
       "    </tr>\n",
       "    <tr>\n",
       "      <th>19</th>\n",
       "      <td>20250.0</td>\n",
       "      <td>15.27</td>\n",
       "      <td>484.63</td>\n",
       "      <td>43370.00</td>\n",
       "      <td>1</td>\n",
       "      <td>26.53</td>\n",
       "      <td>0.0</td>\n",
       "      <td>3.0</td>\n",
       "      <td>8.0</td>\n",
       "      <td>0.0</td>\n",
       "      <td>...</td>\n",
       "      <td>0.0</td>\n",
       "      <td>0.0</td>\n",
       "      <td>0.0</td>\n",
       "      <td>0.0</td>\n",
       "      <td>0.0</td>\n",
       "      <td>0.0</td>\n",
       "      <td>0.0</td>\n",
       "      <td>0.0</td>\n",
       "      <td>0.0</td>\n",
       "      <td>1.0</td>\n",
       "    </tr>\n",
       "    <tr>\n",
       "      <th>20</th>\n",
       "      <td>21000.0</td>\n",
       "      <td>12.42</td>\n",
       "      <td>701.73</td>\n",
       "      <td>105000.00</td>\n",
       "      <td>0</td>\n",
       "      <td>13.22</td>\n",
       "      <td>0.0</td>\n",
       "      <td>0.0</td>\n",
       "      <td>7.0</td>\n",
       "      <td>0.0</td>\n",
       "      <td>...</td>\n",
       "      <td>0.0</td>\n",
       "      <td>0.0</td>\n",
       "      <td>0.0</td>\n",
       "      <td>0.0</td>\n",
       "      <td>0.0</td>\n",
       "      <td>0.0</td>\n",
       "      <td>0.0</td>\n",
       "      <td>0.0</td>\n",
       "      <td>1.0</td>\n",
       "      <td>0.0</td>\n",
       "    </tr>\n",
       "    <tr>\n",
       "      <th>21</th>\n",
       "      <td>10000.0</td>\n",
       "      <td>11.71</td>\n",
       "      <td>330.76</td>\n",
       "      <td>50000.00</td>\n",
       "      <td>1</td>\n",
       "      <td>11.18</td>\n",
       "      <td>0.0</td>\n",
       "      <td>0.0</td>\n",
       "      <td>8.0</td>\n",
       "      <td>0.0</td>\n",
       "      <td>...</td>\n",
       "      <td>0.0</td>\n",
       "      <td>0.0</td>\n",
       "      <td>0.0</td>\n",
       "      <td>0.0</td>\n",
       "      <td>0.0</td>\n",
       "      <td>0.0</td>\n",
       "      <td>0.0</td>\n",
       "      <td>0.0</td>\n",
       "      <td>1.0</td>\n",
       "      <td>0.0</td>\n",
       "    </tr>\n",
       "    <tr>\n",
       "      <th>22</th>\n",
       "      <td>10000.0</td>\n",
       "      <td>11.71</td>\n",
       "      <td>330.76</td>\n",
       "      <td>50000.00</td>\n",
       "      <td>1</td>\n",
       "      <td>16.01</td>\n",
       "      <td>0.0</td>\n",
       "      <td>0.0</td>\n",
       "      <td>6.0</td>\n",
       "      <td>0.0</td>\n",
       "      <td>...</td>\n",
       "      <td>0.0</td>\n",
       "      <td>0.0</td>\n",
       "      <td>0.0</td>\n",
       "      <td>0.0</td>\n",
       "      <td>0.0</td>\n",
       "      <td>0.0</td>\n",
       "      <td>0.0</td>\n",
       "      <td>0.0</td>\n",
       "      <td>1.0</td>\n",
       "      <td>0.0</td>\n",
       "    </tr>\n",
       "    <tr>\n",
       "      <th>23</th>\n",
       "      <td>6000.0</td>\n",
       "      <td>11.71</td>\n",
       "      <td>198.46</td>\n",
       "      <td>76000.00</td>\n",
       "      <td>0</td>\n",
       "      <td>2.40</td>\n",
       "      <td>0.0</td>\n",
       "      <td>1.0</td>\n",
       "      <td>7.0</td>\n",
       "      <td>0.0</td>\n",
       "      <td>...</td>\n",
       "      <td>1.0</td>\n",
       "      <td>0.0</td>\n",
       "      <td>0.0</td>\n",
       "      <td>0.0</td>\n",
       "      <td>0.0</td>\n",
       "      <td>0.0</td>\n",
       "      <td>0.0</td>\n",
       "      <td>0.0</td>\n",
       "      <td>1.0</td>\n",
       "      <td>0.0</td>\n",
       "    </tr>\n",
       "    <tr>\n",
       "      <th>24</th>\n",
       "      <td>15000.0</td>\n",
       "      <td>9.91</td>\n",
       "      <td>483.38</td>\n",
       "      <td>92000.00</td>\n",
       "      <td>1</td>\n",
       "      <td>29.44</td>\n",
       "      <td>0.0</td>\n",
       "      <td>0.0</td>\n",
       "      <td>8.0</td>\n",
       "      <td>0.0</td>\n",
       "      <td>...</td>\n",
       "      <td>0.0</td>\n",
       "      <td>0.0</td>\n",
       "      <td>0.0</td>\n",
       "      <td>0.0</td>\n",
       "      <td>0.0</td>\n",
       "      <td>0.0</td>\n",
       "      <td>0.0</td>\n",
       "      <td>0.0</td>\n",
       "      <td>1.0</td>\n",
       "      <td>0.0</td>\n",
       "    </tr>\n",
       "    <tr>\n",
       "      <th>25</th>\n",
       "      <td>15000.0</td>\n",
       "      <td>14.27</td>\n",
       "      <td>514.64</td>\n",
       "      <td>60000.00</td>\n",
       "      <td>0</td>\n",
       "      <td>15.22</td>\n",
       "      <td>0.0</td>\n",
       "      <td>1.0</td>\n",
       "      <td>7.0</td>\n",
       "      <td>0.0</td>\n",
       "      <td>...</td>\n",
       "      <td>0.0</td>\n",
       "      <td>0.0</td>\n",
       "      <td>0.0</td>\n",
       "      <td>0.0</td>\n",
       "      <td>0.0</td>\n",
       "      <td>0.0</td>\n",
       "      <td>0.0</td>\n",
       "      <td>0.0</td>\n",
       "      <td>1.0</td>\n",
       "      <td>0.0</td>\n",
       "    </tr>\n",
       "    <tr>\n",
       "      <th>26</th>\n",
       "      <td>5000.0</td>\n",
       "      <td>16.77</td>\n",
       "      <td>123.65</td>\n",
       "      <td>50004.00</td>\n",
       "      <td>0</td>\n",
       "      <td>13.97</td>\n",
       "      <td>3.0</td>\n",
       "      <td>0.0</td>\n",
       "      <td>14.0</td>\n",
       "      <td>0.0</td>\n",
       "      <td>...</td>\n",
       "      <td>0.0</td>\n",
       "      <td>0.0</td>\n",
       "      <td>0.0</td>\n",
       "      <td>1.0</td>\n",
       "      <td>0.0</td>\n",
       "      <td>0.0</td>\n",
       "      <td>0.0</td>\n",
       "      <td>0.0</td>\n",
       "      <td>0.0</td>\n",
       "      <td>1.0</td>\n",
       "    </tr>\n",
       "    <tr>\n",
       "      <th>27</th>\n",
       "      <td>4000.0</td>\n",
       "      <td>11.71</td>\n",
       "      <td>132.31</td>\n",
       "      <td>106000.00</td>\n",
       "      <td>1</td>\n",
       "      <td>5.63</td>\n",
       "      <td>1.0</td>\n",
       "      <td>0.0</td>\n",
       "      <td>12.0</td>\n",
       "      <td>0.0</td>\n",
       "      <td>...</td>\n",
       "      <td>0.0</td>\n",
       "      <td>0.0</td>\n",
       "      <td>0.0</td>\n",
       "      <td>0.0</td>\n",
       "      <td>0.0</td>\n",
       "      <td>0.0</td>\n",
       "      <td>0.0</td>\n",
       "      <td>0.0</td>\n",
       "      <td>1.0</td>\n",
       "      <td>0.0</td>\n",
       "    </tr>\n",
       "    <tr>\n",
       "      <th>28</th>\n",
       "      <td>8500.0</td>\n",
       "      <td>11.71</td>\n",
       "      <td>281.15</td>\n",
       "      <td>25000.00</td>\n",
       "      <td>1</td>\n",
       "      <td>12.19</td>\n",
       "      <td>0.0</td>\n",
       "      <td>0.0</td>\n",
       "      <td>8.0</td>\n",
       "      <td>0.0</td>\n",
       "      <td>...</td>\n",
       "      <td>0.0</td>\n",
       "      <td>0.0</td>\n",
       "      <td>0.0</td>\n",
       "      <td>0.0</td>\n",
       "      <td>0.0</td>\n",
       "      <td>0.0</td>\n",
       "      <td>0.0</td>\n",
       "      <td>0.0</td>\n",
       "      <td>1.0</td>\n",
       "      <td>0.0</td>\n",
       "    </tr>\n",
       "    <tr>\n",
       "      <th>29</th>\n",
       "      <td>4375.0</td>\n",
       "      <td>7.51</td>\n",
       "      <td>136.11</td>\n",
       "      <td>17108.00</td>\n",
       "      <td>1</td>\n",
       "      <td>20.34</td>\n",
       "      <td>0.0</td>\n",
       "      <td>0.0</td>\n",
       "      <td>6.0</td>\n",
       "      <td>0.0</td>\n",
       "      <td>...</td>\n",
       "      <td>0.0</td>\n",
       "      <td>0.0</td>\n",
       "      <td>0.0</td>\n",
       "      <td>0.0</td>\n",
       "      <td>0.0</td>\n",
       "      <td>0.0</td>\n",
       "      <td>0.0</td>\n",
       "      <td>0.0</td>\n",
       "      <td>1.0</td>\n",
       "      <td>0.0</td>\n",
       "    </tr>\n",
       "    <tr>\n",
       "      <th>...</th>\n",
       "      <td>...</td>\n",
       "      <td>...</td>\n",
       "      <td>...</td>\n",
       "      <td>...</td>\n",
       "      <td>...</td>\n",
       "      <td>...</td>\n",
       "      <td>...</td>\n",
       "      <td>...</td>\n",
       "      <td>...</td>\n",
       "      <td>...</td>\n",
       "      <td>...</td>\n",
       "      <td>...</td>\n",
       "      <td>...</td>\n",
       "      <td>...</td>\n",
       "      <td>...</td>\n",
       "      <td>...</td>\n",
       "      <td>...</td>\n",
       "      <td>...</td>\n",
       "      <td>...</td>\n",
       "      <td>...</td>\n",
       "      <td>...</td>\n",
       "    </tr>\n",
       "    <tr>\n",
       "      <th>39655</th>\n",
       "      <td>12000.0</td>\n",
       "      <td>12.49</td>\n",
       "      <td>401.37</td>\n",
       "      <td>75000.00</td>\n",
       "      <td>1</td>\n",
       "      <td>15.00</td>\n",
       "      <td>0.0</td>\n",
       "      <td>3.0</td>\n",
       "      <td>9.0</td>\n",
       "      <td>0.0</td>\n",
       "      <td>...</td>\n",
       "      <td>0.0</td>\n",
       "      <td>0.0</td>\n",
       "      <td>0.0</td>\n",
       "      <td>0.0</td>\n",
       "      <td>0.0</td>\n",
       "      <td>0.0</td>\n",
       "      <td>0.0</td>\n",
       "      <td>0.0</td>\n",
       "      <td>1.0</td>\n",
       "      <td>0.0</td>\n",
       "    </tr>\n",
       "    <tr>\n",
       "      <th>39656</th>\n",
       "      <td>20000.0</td>\n",
       "      <td>13.43</td>\n",
       "      <td>678.08</td>\n",
       "      <td>145000.00</td>\n",
       "      <td>0</td>\n",
       "      <td>10.15</td>\n",
       "      <td>0.0</td>\n",
       "      <td>0.0</td>\n",
       "      <td>17.0</td>\n",
       "      <td>0.0</td>\n",
       "      <td>...</td>\n",
       "      <td>0.0</td>\n",
       "      <td>0.0</td>\n",
       "      <td>0.0</td>\n",
       "      <td>0.0</td>\n",
       "      <td>0.0</td>\n",
       "      <td>0.0</td>\n",
       "      <td>0.0</td>\n",
       "      <td>0.0</td>\n",
       "      <td>1.0</td>\n",
       "      <td>0.0</td>\n",
       "    </tr>\n",
       "    <tr>\n",
       "      <th>39657</th>\n",
       "      <td>1200.0</td>\n",
       "      <td>11.54</td>\n",
       "      <td>39.60</td>\n",
       "      <td>20000.00</td>\n",
       "      <td>1</td>\n",
       "      <td>2.04</td>\n",
       "      <td>0.0</td>\n",
       "      <td>2.0</td>\n",
       "      <td>3.0</td>\n",
       "      <td>0.0</td>\n",
       "      <td>...</td>\n",
       "      <td>0.0</td>\n",
       "      <td>0.0</td>\n",
       "      <td>0.0</td>\n",
       "      <td>0.0</td>\n",
       "      <td>0.0</td>\n",
       "      <td>0.0</td>\n",
       "      <td>0.0</td>\n",
       "      <td>0.0</td>\n",
       "      <td>1.0</td>\n",
       "      <td>0.0</td>\n",
       "    </tr>\n",
       "    <tr>\n",
       "      <th>39658</th>\n",
       "      <td>12250.0</td>\n",
       "      <td>10.59</td>\n",
       "      <td>398.69</td>\n",
       "      <td>60000.00</td>\n",
       "      <td>1</td>\n",
       "      <td>17.12</td>\n",
       "      <td>1.0</td>\n",
       "      <td>2.0</td>\n",
       "      <td>10.0</td>\n",
       "      <td>0.0</td>\n",
       "      <td>...</td>\n",
       "      <td>0.0</td>\n",
       "      <td>0.0</td>\n",
       "      <td>0.0</td>\n",
       "      <td>0.0</td>\n",
       "      <td>0.0</td>\n",
       "      <td>1.0</td>\n",
       "      <td>0.0</td>\n",
       "      <td>0.0</td>\n",
       "      <td>1.0</td>\n",
       "      <td>0.0</td>\n",
       "    </tr>\n",
       "    <tr>\n",
       "      <th>39659</th>\n",
       "      <td>2700.0</td>\n",
       "      <td>15.96</td>\n",
       "      <td>94.88</td>\n",
       "      <td>52200.00</td>\n",
       "      <td>1</td>\n",
       "      <td>12.57</td>\n",
       "      <td>0.0</td>\n",
       "      <td>1.0</td>\n",
       "      <td>12.0</td>\n",
       "      <td>0.0</td>\n",
       "      <td>...</td>\n",
       "      <td>0.0</td>\n",
       "      <td>0.0</td>\n",
       "      <td>0.0</td>\n",
       "      <td>0.0</td>\n",
       "      <td>0.0</td>\n",
       "      <td>0.0</td>\n",
       "      <td>0.0</td>\n",
       "      <td>0.0</td>\n",
       "      <td>1.0</td>\n",
       "      <td>0.0</td>\n",
       "    </tr>\n",
       "    <tr>\n",
       "      <th>39660</th>\n",
       "      <td>5000.0</td>\n",
       "      <td>9.01</td>\n",
       "      <td>159.03</td>\n",
       "      <td>250000.00</td>\n",
       "      <td>1</td>\n",
       "      <td>10.00</td>\n",
       "      <td>2.0</td>\n",
       "      <td>0.0</td>\n",
       "      <td>5.0</td>\n",
       "      <td>0.0</td>\n",
       "      <td>...</td>\n",
       "      <td>0.0</td>\n",
       "      <td>0.0</td>\n",
       "      <td>0.0</td>\n",
       "      <td>1.0</td>\n",
       "      <td>0.0</td>\n",
       "      <td>0.0</td>\n",
       "      <td>0.0</td>\n",
       "      <td>0.0</td>\n",
       "      <td>1.0</td>\n",
       "      <td>0.0</td>\n",
       "    </tr>\n",
       "    <tr>\n",
       "      <th>39661</th>\n",
       "      <td>3500.0</td>\n",
       "      <td>9.96</td>\n",
       "      <td>112.87</td>\n",
       "      <td>13500.00</td>\n",
       "      <td>1</td>\n",
       "      <td>16.44</td>\n",
       "      <td>0.0</td>\n",
       "      <td>1.0</td>\n",
       "      <td>10.0</td>\n",
       "      <td>0.0</td>\n",
       "      <td>...</td>\n",
       "      <td>0.0</td>\n",
       "      <td>0.0</td>\n",
       "      <td>0.0</td>\n",
       "      <td>0.0</td>\n",
       "      <td>0.0</td>\n",
       "      <td>0.0</td>\n",
       "      <td>0.0</td>\n",
       "      <td>0.0</td>\n",
       "      <td>1.0</td>\n",
       "      <td>0.0</td>\n",
       "    </tr>\n",
       "    <tr>\n",
       "      <th>39662</th>\n",
       "      <td>5000.0</td>\n",
       "      <td>7.43</td>\n",
       "      <td>155.38</td>\n",
       "      <td>150000.00</td>\n",
       "      <td>1</td>\n",
       "      <td>0.00</td>\n",
       "      <td>0.0</td>\n",
       "      <td>0.0</td>\n",
       "      <td>2.0</td>\n",
       "      <td>0.0</td>\n",
       "      <td>...</td>\n",
       "      <td>0.0</td>\n",
       "      <td>0.0</td>\n",
       "      <td>0.0</td>\n",
       "      <td>0.0</td>\n",
       "      <td>0.0</td>\n",
       "      <td>0.0</td>\n",
       "      <td>0.0</td>\n",
       "      <td>0.0</td>\n",
       "      <td>1.0</td>\n",
       "      <td>0.0</td>\n",
       "    </tr>\n",
       "    <tr>\n",
       "      <th>39663</th>\n",
       "      <td>5000.0</td>\n",
       "      <td>7.43</td>\n",
       "      <td>155.38</td>\n",
       "      <td>95000.00</td>\n",
       "      <td>1</td>\n",
       "      <td>3.83</td>\n",
       "      <td>0.0</td>\n",
       "      <td>0.0</td>\n",
       "      <td>8.0</td>\n",
       "      <td>0.0</td>\n",
       "      <td>...</td>\n",
       "      <td>0.0</td>\n",
       "      <td>0.0</td>\n",
       "      <td>0.0</td>\n",
       "      <td>0.0</td>\n",
       "      <td>0.0</td>\n",
       "      <td>0.0</td>\n",
       "      <td>1.0</td>\n",
       "      <td>0.0</td>\n",
       "      <td>1.0</td>\n",
       "      <td>0.0</td>\n",
       "    </tr>\n",
       "    <tr>\n",
       "      <th>39664</th>\n",
       "      <td>25000.0</td>\n",
       "      <td>10.59</td>\n",
       "      <td>813.65</td>\n",
       "      <td>48000.00</td>\n",
       "      <td>1</td>\n",
       "      <td>4.05</td>\n",
       "      <td>0.0</td>\n",
       "      <td>0.0</td>\n",
       "      <td>5.0</td>\n",
       "      <td>0.0</td>\n",
       "      <td>...</td>\n",
       "      <td>0.0</td>\n",
       "      <td>0.0</td>\n",
       "      <td>0.0</td>\n",
       "      <td>0.0</td>\n",
       "      <td>0.0</td>\n",
       "      <td>1.0</td>\n",
       "      <td>0.0</td>\n",
       "      <td>0.0</td>\n",
       "      <td>1.0</td>\n",
       "      <td>0.0</td>\n",
       "    </tr>\n",
       "    <tr>\n",
       "      <th>39665</th>\n",
       "      <td>10000.0</td>\n",
       "      <td>10.28</td>\n",
       "      <td>323.98</td>\n",
       "      <td>27376.00</td>\n",
       "      <td>1</td>\n",
       "      <td>10.70</td>\n",
       "      <td>0.0</td>\n",
       "      <td>0.0</td>\n",
       "      <td>4.0</td>\n",
       "      <td>0.0</td>\n",
       "      <td>...</td>\n",
       "      <td>0.0</td>\n",
       "      <td>0.0</td>\n",
       "      <td>0.0</td>\n",
       "      <td>0.0</td>\n",
       "      <td>0.0</td>\n",
       "      <td>1.0</td>\n",
       "      <td>0.0</td>\n",
       "      <td>0.0</td>\n",
       "      <td>1.0</td>\n",
       "      <td>0.0</td>\n",
       "    </tr>\n",
       "    <tr>\n",
       "      <th>39666</th>\n",
       "      <td>5000.0</td>\n",
       "      <td>9.01</td>\n",
       "      <td>159.03</td>\n",
       "      <td>73000.00</td>\n",
       "      <td>1</td>\n",
       "      <td>9.96</td>\n",
       "      <td>0.0</td>\n",
       "      <td>0.0</td>\n",
       "      <td>21.0</td>\n",
       "      <td>0.0</td>\n",
       "      <td>...</td>\n",
       "      <td>0.0</td>\n",
       "      <td>0.0</td>\n",
       "      <td>0.0</td>\n",
       "      <td>0.0</td>\n",
       "      <td>0.0</td>\n",
       "      <td>0.0</td>\n",
       "      <td>0.0</td>\n",
       "      <td>0.0</td>\n",
       "      <td>1.0</td>\n",
       "      <td>0.0</td>\n",
       "    </tr>\n",
       "    <tr>\n",
       "      <th>39667</th>\n",
       "      <td>5100.0</td>\n",
       "      <td>8.38</td>\n",
       "      <td>160.72</td>\n",
       "      <td>32000.00</td>\n",
       "      <td>1</td>\n",
       "      <td>14.78</td>\n",
       "      <td>0.0</td>\n",
       "      <td>0.0</td>\n",
       "      <td>11.0</td>\n",
       "      <td>0.0</td>\n",
       "      <td>...</td>\n",
       "      <td>0.0</td>\n",
       "      <td>0.0</td>\n",
       "      <td>0.0</td>\n",
       "      <td>0.0</td>\n",
       "      <td>0.0</td>\n",
       "      <td>0.0</td>\n",
       "      <td>1.0</td>\n",
       "      <td>0.0</td>\n",
       "      <td>1.0</td>\n",
       "      <td>0.0</td>\n",
       "    </tr>\n",
       "    <tr>\n",
       "      <th>39668</th>\n",
       "      <td>5400.0</td>\n",
       "      <td>7.75</td>\n",
       "      <td>168.60</td>\n",
       "      <td>8000.00</td>\n",
       "      <td>1</td>\n",
       "      <td>3.00</td>\n",
       "      <td>0.0</td>\n",
       "      <td>0.0</td>\n",
       "      <td>4.0</td>\n",
       "      <td>0.0</td>\n",
       "      <td>...</td>\n",
       "      <td>0.0</td>\n",
       "      <td>0.0</td>\n",
       "      <td>0.0</td>\n",
       "      <td>0.0</td>\n",
       "      <td>0.0</td>\n",
       "      <td>0.0</td>\n",
       "      <td>0.0</td>\n",
       "      <td>0.0</td>\n",
       "      <td>1.0</td>\n",
       "      <td>0.0</td>\n",
       "    </tr>\n",
       "    <tr>\n",
       "      <th>39669</th>\n",
       "      <td>5300.0</td>\n",
       "      <td>8.38</td>\n",
       "      <td>167.02</td>\n",
       "      <td>74000.00</td>\n",
       "      <td>1</td>\n",
       "      <td>14.37</td>\n",
       "      <td>0.0</td>\n",
       "      <td>0.0</td>\n",
       "      <td>15.0</td>\n",
       "      <td>0.0</td>\n",
       "      <td>...</td>\n",
       "      <td>0.0</td>\n",
       "      <td>0.0</td>\n",
       "      <td>0.0</td>\n",
       "      <td>0.0</td>\n",
       "      <td>0.0</td>\n",
       "      <td>0.0</td>\n",
       "      <td>0.0</td>\n",
       "      <td>0.0</td>\n",
       "      <td>1.0</td>\n",
       "      <td>0.0</td>\n",
       "    </tr>\n",
       "    <tr>\n",
       "      <th>39670</th>\n",
       "      <td>5000.0</td>\n",
       "      <td>11.22</td>\n",
       "      <td>164.23</td>\n",
       "      <td>30000.00</td>\n",
       "      <td>1</td>\n",
       "      <td>18.64</td>\n",
       "      <td>0.0</td>\n",
       "      <td>0.0</td>\n",
       "      <td>10.0</td>\n",
       "      <td>0.0</td>\n",
       "      <td>...</td>\n",
       "      <td>0.0</td>\n",
       "      <td>0.0</td>\n",
       "      <td>0.0</td>\n",
       "      <td>0.0</td>\n",
       "      <td>0.0</td>\n",
       "      <td>0.0</td>\n",
       "      <td>0.0</td>\n",
       "      <td>0.0</td>\n",
       "      <td>1.0</td>\n",
       "      <td>0.0</td>\n",
       "    </tr>\n",
       "    <tr>\n",
       "      <th>39671</th>\n",
       "      <td>3000.0</td>\n",
       "      <td>10.28</td>\n",
       "      <td>97.20</td>\n",
       "      <td>200000.00</td>\n",
       "      <td>1</td>\n",
       "      <td>0.00</td>\n",
       "      <td>1.0</td>\n",
       "      <td>0.0</td>\n",
       "      <td>5.0</td>\n",
       "      <td>0.0</td>\n",
       "      <td>...</td>\n",
       "      <td>0.0</td>\n",
       "      <td>0.0</td>\n",
       "      <td>0.0</td>\n",
       "      <td>0.0</td>\n",
       "      <td>0.0</td>\n",
       "      <td>0.0</td>\n",
       "      <td>0.0</td>\n",
       "      <td>0.0</td>\n",
       "      <td>1.0</td>\n",
       "      <td>0.0</td>\n",
       "    </tr>\n",
       "    <tr>\n",
       "      <th>39672</th>\n",
       "      <td>3000.0</td>\n",
       "      <td>8.70</td>\n",
       "      <td>94.98</td>\n",
       "      <td>25000.00</td>\n",
       "      <td>1</td>\n",
       "      <td>14.54</td>\n",
       "      <td>0.0</td>\n",
       "      <td>1.0</td>\n",
       "      <td>10.0</td>\n",
       "      <td>0.0</td>\n",
       "      <td>...</td>\n",
       "      <td>0.0</td>\n",
       "      <td>0.0</td>\n",
       "      <td>0.0</td>\n",
       "      <td>0.0</td>\n",
       "      <td>0.0</td>\n",
       "      <td>1.0</td>\n",
       "      <td>0.0</td>\n",
       "      <td>0.0</td>\n",
       "      <td>1.0</td>\n",
       "      <td>0.0</td>\n",
       "    </tr>\n",
       "    <tr>\n",
       "      <th>39673</th>\n",
       "      <td>5000.0</td>\n",
       "      <td>7.43</td>\n",
       "      <td>155.38</td>\n",
       "      <td>120000.00</td>\n",
       "      <td>1</td>\n",
       "      <td>2.29</td>\n",
       "      <td>0.0</td>\n",
       "      <td>0.0</td>\n",
       "      <td>8.0</td>\n",
       "      <td>0.0</td>\n",
       "      <td>...</td>\n",
       "      <td>0.0</td>\n",
       "      <td>0.0</td>\n",
       "      <td>0.0</td>\n",
       "      <td>0.0</td>\n",
       "      <td>0.0</td>\n",
       "      <td>0.0</td>\n",
       "      <td>0.0</td>\n",
       "      <td>0.0</td>\n",
       "      <td>1.0</td>\n",
       "      <td>0.0</td>\n",
       "    </tr>\n",
       "    <tr>\n",
       "      <th>39674</th>\n",
       "      <td>5000.0</td>\n",
       "      <td>8.07</td>\n",
       "      <td>156.84</td>\n",
       "      <td>180000.00</td>\n",
       "      <td>1</td>\n",
       "      <td>5.55</td>\n",
       "      <td>0.0</td>\n",
       "      <td>0.0</td>\n",
       "      <td>12.0</td>\n",
       "      <td>0.0</td>\n",
       "      <td>...</td>\n",
       "      <td>0.0</td>\n",
       "      <td>0.0</td>\n",
       "      <td>0.0</td>\n",
       "      <td>0.0</td>\n",
       "      <td>0.0</td>\n",
       "      <td>0.0</td>\n",
       "      <td>0.0</td>\n",
       "      <td>0.0</td>\n",
       "      <td>1.0</td>\n",
       "      <td>0.0</td>\n",
       "    </tr>\n",
       "    <tr>\n",
       "      <th>39675</th>\n",
       "      <td>5000.0</td>\n",
       "      <td>9.33</td>\n",
       "      <td>159.77</td>\n",
       "      <td>180000.00</td>\n",
       "      <td>1</td>\n",
       "      <td>11.93</td>\n",
       "      <td>0.0</td>\n",
       "      <td>1.0</td>\n",
       "      <td>16.0</td>\n",
       "      <td>0.0</td>\n",
       "      <td>...</td>\n",
       "      <td>0.0</td>\n",
       "      <td>0.0</td>\n",
       "      <td>0.0</td>\n",
       "      <td>0.0</td>\n",
       "      <td>0.0</td>\n",
       "      <td>0.0</td>\n",
       "      <td>0.0</td>\n",
       "      <td>0.0</td>\n",
       "      <td>1.0</td>\n",
       "      <td>0.0</td>\n",
       "    </tr>\n",
       "    <tr>\n",
       "      <th>39676</th>\n",
       "      <td>5000.0</td>\n",
       "      <td>9.96</td>\n",
       "      <td>161.25</td>\n",
       "      <td>48000.00</td>\n",
       "      <td>1</td>\n",
       "      <td>8.03</td>\n",
       "      <td>0.0</td>\n",
       "      <td>1.0</td>\n",
       "      <td>6.0</td>\n",
       "      <td>0.0</td>\n",
       "      <td>...</td>\n",
       "      <td>0.0</td>\n",
       "      <td>0.0</td>\n",
       "      <td>0.0</td>\n",
       "      <td>0.0</td>\n",
       "      <td>0.0</td>\n",
       "      <td>0.0</td>\n",
       "      <td>0.0</td>\n",
       "      <td>0.0</td>\n",
       "      <td>1.0</td>\n",
       "      <td>0.0</td>\n",
       "    </tr>\n",
       "    <tr>\n",
       "      <th>39677</th>\n",
       "      <td>5000.0</td>\n",
       "      <td>11.22</td>\n",
       "      <td>164.23</td>\n",
       "      <td>80000.00</td>\n",
       "      <td>1</td>\n",
       "      <td>1.21</td>\n",
       "      <td>0.0</td>\n",
       "      <td>3.0</td>\n",
       "      <td>15.0</td>\n",
       "      <td>1.0</td>\n",
       "      <td>...</td>\n",
       "      <td>0.0</td>\n",
       "      <td>0.0</td>\n",
       "      <td>0.0</td>\n",
       "      <td>0.0</td>\n",
       "      <td>0.0</td>\n",
       "      <td>0.0</td>\n",
       "      <td>0.0</td>\n",
       "      <td>0.0</td>\n",
       "      <td>1.0</td>\n",
       "      <td>0.0</td>\n",
       "    </tr>\n",
       "    <tr>\n",
       "      <th>39678</th>\n",
       "      <td>5000.0</td>\n",
       "      <td>7.43</td>\n",
       "      <td>155.38</td>\n",
       "      <td>85000.00</td>\n",
       "      <td>1</td>\n",
       "      <td>0.31</td>\n",
       "      <td>0.0</td>\n",
       "      <td>0.0</td>\n",
       "      <td>7.0</td>\n",
       "      <td>0.0</td>\n",
       "      <td>...</td>\n",
       "      <td>0.0</td>\n",
       "      <td>0.0</td>\n",
       "      <td>0.0</td>\n",
       "      <td>0.0</td>\n",
       "      <td>0.0</td>\n",
       "      <td>0.0</td>\n",
       "      <td>0.0</td>\n",
       "      <td>0.0</td>\n",
       "      <td>1.0</td>\n",
       "      <td>0.0</td>\n",
       "    </tr>\n",
       "    <tr>\n",
       "      <th>39679</th>\n",
       "      <td>5000.0</td>\n",
       "      <td>8.70</td>\n",
       "      <td>158.30</td>\n",
       "      <td>75000.00</td>\n",
       "      <td>1</td>\n",
       "      <td>15.55</td>\n",
       "      <td>0.0</td>\n",
       "      <td>0.0</td>\n",
       "      <td>10.0</td>\n",
       "      <td>0.0</td>\n",
       "      <td>...</td>\n",
       "      <td>0.0</td>\n",
       "      <td>0.0</td>\n",
       "      <td>0.0</td>\n",
       "      <td>0.0</td>\n",
       "      <td>0.0</td>\n",
       "      <td>0.0</td>\n",
       "      <td>0.0</td>\n",
       "      <td>0.0</td>\n",
       "      <td>1.0</td>\n",
       "      <td>0.0</td>\n",
       "    </tr>\n",
       "    <tr>\n",
       "      <th>39680</th>\n",
       "      <td>2500.0</td>\n",
       "      <td>8.07</td>\n",
       "      <td>78.42</td>\n",
       "      <td>110000.00</td>\n",
       "      <td>1</td>\n",
       "      <td>11.33</td>\n",
       "      <td>0.0</td>\n",
       "      <td>0.0</td>\n",
       "      <td>13.0</td>\n",
       "      <td>0.0</td>\n",
       "      <td>...</td>\n",
       "      <td>0.0</td>\n",
       "      <td>0.0</td>\n",
       "      <td>0.0</td>\n",
       "      <td>0.0</td>\n",
       "      <td>0.0</td>\n",
       "      <td>0.0</td>\n",
       "      <td>0.0</td>\n",
       "      <td>0.0</td>\n",
       "      <td>1.0</td>\n",
       "      <td>0.0</td>\n",
       "    </tr>\n",
       "    <tr>\n",
       "      <th>39681</th>\n",
       "      <td>8500.0</td>\n",
       "      <td>10.28</td>\n",
       "      <td>275.38</td>\n",
       "      <td>18000.00</td>\n",
       "      <td>1</td>\n",
       "      <td>6.40</td>\n",
       "      <td>1.0</td>\n",
       "      <td>1.0</td>\n",
       "      <td>6.0</td>\n",
       "      <td>0.0</td>\n",
       "      <td>...</td>\n",
       "      <td>0.0</td>\n",
       "      <td>0.0</td>\n",
       "      <td>0.0</td>\n",
       "      <td>0.0</td>\n",
       "      <td>0.0</td>\n",
       "      <td>0.0</td>\n",
       "      <td>0.0</td>\n",
       "      <td>0.0</td>\n",
       "      <td>1.0</td>\n",
       "      <td>0.0</td>\n",
       "    </tr>\n",
       "    <tr>\n",
       "      <th>39682</th>\n",
       "      <td>5000.0</td>\n",
       "      <td>8.07</td>\n",
       "      <td>156.84</td>\n",
       "      <td>100000.00</td>\n",
       "      <td>1</td>\n",
       "      <td>2.30</td>\n",
       "      <td>0.0</td>\n",
       "      <td>0.0</td>\n",
       "      <td>11.0</td>\n",
       "      <td>0.0</td>\n",
       "      <td>...</td>\n",
       "      <td>0.0</td>\n",
       "      <td>0.0</td>\n",
       "      <td>0.0</td>\n",
       "      <td>0.0</td>\n",
       "      <td>0.0</td>\n",
       "      <td>0.0</td>\n",
       "      <td>0.0</td>\n",
       "      <td>0.0</td>\n",
       "      <td>1.0</td>\n",
       "      <td>0.0</td>\n",
       "    </tr>\n",
       "    <tr>\n",
       "      <th>39683</th>\n",
       "      <td>5000.0</td>\n",
       "      <td>7.43</td>\n",
       "      <td>155.38</td>\n",
       "      <td>200000.00</td>\n",
       "      <td>1</td>\n",
       "      <td>3.72</td>\n",
       "      <td>0.0</td>\n",
       "      <td>0.0</td>\n",
       "      <td>17.0</td>\n",
       "      <td>0.0</td>\n",
       "      <td>...</td>\n",
       "      <td>0.0</td>\n",
       "      <td>0.0</td>\n",
       "      <td>0.0</td>\n",
       "      <td>1.0</td>\n",
       "      <td>0.0</td>\n",
       "      <td>0.0</td>\n",
       "      <td>0.0</td>\n",
       "      <td>0.0</td>\n",
       "      <td>1.0</td>\n",
       "      <td>0.0</td>\n",
       "    </tr>\n",
       "    <tr>\n",
       "      <th>39684</th>\n",
       "      <td>7500.0</td>\n",
       "      <td>13.75</td>\n",
       "      <td>255.43</td>\n",
       "      <td>22000.00</td>\n",
       "      <td>1</td>\n",
       "      <td>14.29</td>\n",
       "      <td>1.0</td>\n",
       "      <td>0.0</td>\n",
       "      <td>7.0</td>\n",
       "      <td>0.0</td>\n",
       "      <td>...</td>\n",
       "      <td>0.0</td>\n",
       "      <td>0.0</td>\n",
       "      <td>0.0</td>\n",
       "      <td>0.0</td>\n",
       "      <td>0.0</td>\n",
       "      <td>0.0</td>\n",
       "      <td>0.0</td>\n",
       "      <td>0.0</td>\n",
       "      <td>1.0</td>\n",
       "      <td>0.0</td>\n",
       "    </tr>\n",
       "  </tbody>\n",
       "</table>\n",
       "<p>39685 rows × 37 columns</p>\n",
       "</div>"
      ],
      "text/plain": [
       "       loan_amnt  int_rate  installment  annual_inc  loan_status    dti  \\\n",
       "0         5000.0     10.65       162.87    24000.00            1  27.65   \n",
       "1         2500.0     15.27        59.83    30000.00            0   1.00   \n",
       "2         2400.0     15.96        84.33    12252.00            1   8.72   \n",
       "3        10000.0     13.49       339.31    49200.00            1  20.00   \n",
       "4         5000.0      7.90       156.46    36000.00            1  11.20   \n",
       "5         7000.0     15.96       170.08    47004.00            1  23.51   \n",
       "6         3000.0     18.64       109.43    48000.00            1   5.35   \n",
       "7         5600.0     21.28       152.39    40000.00            0   5.55   \n",
       "8         5375.0     12.69       121.45    15000.00            0  18.08   \n",
       "9         6500.0     14.65       153.45    72000.00            1  16.12   \n",
       "10       12000.0     12.69       402.54    75000.00            1  10.78   \n",
       "11        9000.0     13.49       305.38    30000.00            0  10.08   \n",
       "12        3000.0      9.91        96.68    15000.00            1  12.56   \n",
       "13       10000.0     10.65       325.74   100000.00            0   7.06   \n",
       "14        1000.0     16.29        35.31    28000.00            1  20.31   \n",
       "15       10000.0     15.27       347.98    42000.00            1  18.60   \n",
       "16        3600.0      6.03       109.57   110000.00            1  10.52   \n",
       "17        6000.0     11.71       198.46    84000.00            1  18.44   \n",
       "18        9200.0      6.03       280.01    77385.19            1   9.86   \n",
       "19       20250.0     15.27       484.63    43370.00            1  26.53   \n",
       "20       21000.0     12.42       701.73   105000.00            0  13.22   \n",
       "21       10000.0     11.71       330.76    50000.00            1  11.18   \n",
       "22       10000.0     11.71       330.76    50000.00            1  16.01   \n",
       "23        6000.0     11.71       198.46    76000.00            0   2.40   \n",
       "24       15000.0      9.91       483.38    92000.00            1  29.44   \n",
       "25       15000.0     14.27       514.64    60000.00            0  15.22   \n",
       "26        5000.0     16.77       123.65    50004.00            0  13.97   \n",
       "27        4000.0     11.71       132.31   106000.00            1   5.63   \n",
       "28        8500.0     11.71       281.15    25000.00            1  12.19   \n",
       "29        4375.0      7.51       136.11    17108.00            1  20.34   \n",
       "...          ...       ...          ...         ...          ...    ...   \n",
       "39655    12000.0     12.49       401.37    75000.00            1  15.00   \n",
       "39656    20000.0     13.43       678.08   145000.00            0  10.15   \n",
       "39657     1200.0     11.54        39.60    20000.00            1   2.04   \n",
       "39658    12250.0     10.59       398.69    60000.00            1  17.12   \n",
       "39659     2700.0     15.96        94.88    52200.00            1  12.57   \n",
       "39660     5000.0      9.01       159.03   250000.00            1  10.00   \n",
       "39661     3500.0      9.96       112.87    13500.00            1  16.44   \n",
       "39662     5000.0      7.43       155.38   150000.00            1   0.00   \n",
       "39663     5000.0      7.43       155.38    95000.00            1   3.83   \n",
       "39664    25000.0     10.59       813.65    48000.00            1   4.05   \n",
       "39665    10000.0     10.28       323.98    27376.00            1  10.70   \n",
       "39666     5000.0      9.01       159.03    73000.00            1   9.96   \n",
       "39667     5100.0      8.38       160.72    32000.00            1  14.78   \n",
       "39668     5400.0      7.75       168.60     8000.00            1   3.00   \n",
       "39669     5300.0      8.38       167.02    74000.00            1  14.37   \n",
       "39670     5000.0     11.22       164.23    30000.00            1  18.64   \n",
       "39671     3000.0     10.28        97.20   200000.00            1   0.00   \n",
       "39672     3000.0      8.70        94.98    25000.00            1  14.54   \n",
       "39673     5000.0      7.43       155.38   120000.00            1   2.29   \n",
       "39674     5000.0      8.07       156.84   180000.00            1   5.55   \n",
       "39675     5000.0      9.33       159.77   180000.00            1  11.93   \n",
       "39676     5000.0      9.96       161.25    48000.00            1   8.03   \n",
       "39677     5000.0     11.22       164.23    80000.00            1   1.21   \n",
       "39678     5000.0      7.43       155.38    85000.00            1   0.31   \n",
       "39679     5000.0      8.70       158.30    75000.00            1  15.55   \n",
       "39680     2500.0      8.07        78.42   110000.00            1  11.33   \n",
       "39681     8500.0     10.28       275.38    18000.00            1   6.40   \n",
       "39682     5000.0      8.07       156.84   100000.00            1   2.30   \n",
       "39683     5000.0      7.43       155.38   200000.00            1   3.72   \n",
       "39684     7500.0     13.75       255.43    22000.00            1  14.29   \n",
       "\n",
       "       delinq_2yrs  inq_last_6mths  open_acc  pub_rec       ...         \\\n",
       "0              0.0             1.0       3.0      0.0       ...          \n",
       "1              0.0             5.0       3.0      0.0       ...          \n",
       "2              0.0             2.0       2.0      0.0       ...          \n",
       "3              0.0             1.0      10.0      0.0       ...          \n",
       "4              0.0             3.0       9.0      0.0       ...          \n",
       "5              0.0             1.0       7.0      0.0       ...          \n",
       "6              0.0             2.0       4.0      0.0       ...          \n",
       "7              0.0             2.0      11.0      0.0       ...          \n",
       "8              0.0             0.0       2.0      0.0       ...          \n",
       "9              0.0             2.0      14.0      0.0       ...          \n",
       "10             0.0             0.0      12.0      0.0       ...          \n",
       "11             0.0             1.0       4.0      0.0       ...          \n",
       "12             0.0             2.0      11.0      0.0       ...          \n",
       "13             0.0             2.0      14.0      0.0       ...          \n",
       "14             0.0             1.0      11.0      0.0       ...          \n",
       "15             0.0             2.0      14.0      0.0       ...          \n",
       "16             0.0             0.0      20.0      0.0       ...          \n",
       "17             2.0             0.0       4.0      0.0       ...          \n",
       "18             0.0             0.0       8.0      0.0       ...          \n",
       "19             0.0             3.0       8.0      0.0       ...          \n",
       "20             0.0             0.0       7.0      0.0       ...          \n",
       "21             0.0             0.0       8.0      0.0       ...          \n",
       "22             0.0             0.0       6.0      0.0       ...          \n",
       "23             0.0             1.0       7.0      0.0       ...          \n",
       "24             0.0             0.0       8.0      0.0       ...          \n",
       "25             0.0             1.0       7.0      0.0       ...          \n",
       "26             3.0             0.0      14.0      0.0       ...          \n",
       "27             1.0             0.0      12.0      0.0       ...          \n",
       "28             0.0             0.0       8.0      0.0       ...          \n",
       "29             0.0             0.0       6.0      0.0       ...          \n",
       "...            ...             ...       ...      ...       ...          \n",
       "39655          0.0             3.0       9.0      0.0       ...          \n",
       "39656          0.0             0.0      17.0      0.0       ...          \n",
       "39657          0.0             2.0       3.0      0.0       ...          \n",
       "39658          1.0             2.0      10.0      0.0       ...          \n",
       "39659          0.0             1.0      12.0      0.0       ...          \n",
       "39660          2.0             0.0       5.0      0.0       ...          \n",
       "39661          0.0             1.0      10.0      0.0       ...          \n",
       "39662          0.0             0.0       2.0      0.0       ...          \n",
       "39663          0.0             0.0       8.0      0.0       ...          \n",
       "39664          0.0             0.0       5.0      0.0       ...          \n",
       "39665          0.0             0.0       4.0      0.0       ...          \n",
       "39666          0.0             0.0      21.0      0.0       ...          \n",
       "39667          0.0             0.0      11.0      0.0       ...          \n",
       "39668          0.0             0.0       4.0      0.0       ...          \n",
       "39669          0.0             0.0      15.0      0.0       ...          \n",
       "39670          0.0             0.0      10.0      0.0       ...          \n",
       "39671          1.0             0.0       5.0      0.0       ...          \n",
       "39672          0.0             1.0      10.0      0.0       ...          \n",
       "39673          0.0             0.0       8.0      0.0       ...          \n",
       "39674          0.0             0.0      12.0      0.0       ...          \n",
       "39675          0.0             1.0      16.0      0.0       ...          \n",
       "39676          0.0             1.0       6.0      0.0       ...          \n",
       "39677          0.0             3.0      15.0      1.0       ...          \n",
       "39678          0.0             0.0       7.0      0.0       ...          \n",
       "39679          0.0             0.0      10.0      0.0       ...          \n",
       "39680          0.0             0.0      13.0      0.0       ...          \n",
       "39681          1.0             1.0       6.0      0.0       ...          \n",
       "39682          0.0             0.0      11.0      0.0       ...          \n",
       "39683          0.0             0.0      17.0      0.0       ...          \n",
       "39684          1.0             0.0       7.0      0.0       ...          \n",
       "\n",
       "       purpose_major_purchase  purpose_medical  purpose_moving  purpose_other  \\\n",
       "0                         0.0              0.0             0.0            0.0   \n",
       "1                         0.0              0.0             0.0            0.0   \n",
       "2                         0.0              0.0             0.0            0.0   \n",
       "3                         0.0              0.0             0.0            1.0   \n",
       "4                         0.0              0.0             0.0            0.0   \n",
       "5                         0.0              0.0             0.0            0.0   \n",
       "6                         0.0              0.0             0.0            0.0   \n",
       "7                         0.0              0.0             0.0            0.0   \n",
       "8                         0.0              0.0             0.0            1.0   \n",
       "9                         0.0              0.0             0.0            0.0   \n",
       "10                        0.0              0.0             0.0            0.0   \n",
       "11                        0.0              0.0             0.0            0.0   \n",
       "12                        0.0              0.0             0.0            0.0   \n",
       "13                        0.0              0.0             0.0            1.0   \n",
       "14                        0.0              0.0             0.0            0.0   \n",
       "15                        0.0              0.0             0.0            0.0   \n",
       "16                        1.0              0.0             0.0            0.0   \n",
       "17                        0.0              1.0             0.0            0.0   \n",
       "18                        0.0              0.0             0.0            0.0   \n",
       "19                        0.0              0.0             0.0            0.0   \n",
       "20                        0.0              0.0             0.0            0.0   \n",
       "21                        0.0              0.0             0.0            0.0   \n",
       "22                        0.0              0.0             0.0            0.0   \n",
       "23                        1.0              0.0             0.0            0.0   \n",
       "24                        0.0              0.0             0.0            0.0   \n",
       "25                        0.0              0.0             0.0            0.0   \n",
       "26                        0.0              0.0             0.0            1.0   \n",
       "27                        0.0              0.0             0.0            0.0   \n",
       "28                        0.0              0.0             0.0            0.0   \n",
       "29                        0.0              0.0             0.0            0.0   \n",
       "...                       ...              ...             ...            ...   \n",
       "39655                     0.0              0.0             0.0            0.0   \n",
       "39656                     0.0              0.0             0.0            0.0   \n",
       "39657                     0.0              0.0             0.0            0.0   \n",
       "39658                     0.0              0.0             0.0            0.0   \n",
       "39659                     0.0              0.0             0.0            0.0   \n",
       "39660                     0.0              0.0             0.0            1.0   \n",
       "39661                     0.0              0.0             0.0            0.0   \n",
       "39662                     0.0              0.0             0.0            0.0   \n",
       "39663                     0.0              0.0             0.0            0.0   \n",
       "39664                     0.0              0.0             0.0            0.0   \n",
       "39665                     0.0              0.0             0.0            0.0   \n",
       "39666                     0.0              0.0             0.0            0.0   \n",
       "39667                     0.0              0.0             0.0            0.0   \n",
       "39668                     0.0              0.0             0.0            0.0   \n",
       "39669                     0.0              0.0             0.0            0.0   \n",
       "39670                     0.0              0.0             0.0            0.0   \n",
       "39671                     0.0              0.0             0.0            0.0   \n",
       "39672                     0.0              0.0             0.0            0.0   \n",
       "39673                     0.0              0.0             0.0            0.0   \n",
       "39674                     0.0              0.0             0.0            0.0   \n",
       "39675                     0.0              0.0             0.0            0.0   \n",
       "39676                     0.0              0.0             0.0            0.0   \n",
       "39677                     0.0              0.0             0.0            0.0   \n",
       "39678                     0.0              0.0             0.0            0.0   \n",
       "39679                     0.0              0.0             0.0            0.0   \n",
       "39680                     0.0              0.0             0.0            0.0   \n",
       "39681                     0.0              0.0             0.0            0.0   \n",
       "39682                     0.0              0.0             0.0            0.0   \n",
       "39683                     0.0              0.0             0.0            1.0   \n",
       "39684                     0.0              0.0             0.0            0.0   \n",
       "\n",
       "       purpose_renewable_energy  purpose_small_business  purpose_vacation  \\\n",
       "0                           0.0                     0.0               0.0   \n",
       "1                           0.0                     0.0               0.0   \n",
       "2                           0.0                     1.0               0.0   \n",
       "3                           0.0                     0.0               0.0   \n",
       "4                           0.0                     0.0               0.0   \n",
       "5                           0.0                     0.0               0.0   \n",
       "6                           0.0                     0.0               0.0   \n",
       "7                           0.0                     1.0               0.0   \n",
       "8                           0.0                     0.0               0.0   \n",
       "9                           0.0                     0.0               0.0   \n",
       "10                          0.0                     0.0               0.0   \n",
       "11                          0.0                     0.0               0.0   \n",
       "12                          0.0                     0.0               0.0   \n",
       "13                          0.0                     0.0               0.0   \n",
       "14                          0.0                     0.0               0.0   \n",
       "15                          0.0                     0.0               0.0   \n",
       "16                          0.0                     0.0               0.0   \n",
       "17                          0.0                     0.0               0.0   \n",
       "18                          0.0                     0.0               0.0   \n",
       "19                          0.0                     0.0               0.0   \n",
       "20                          0.0                     0.0               0.0   \n",
       "21                          0.0                     0.0               0.0   \n",
       "22                          0.0                     0.0               0.0   \n",
       "23                          0.0                     0.0               0.0   \n",
       "24                          0.0                     0.0               0.0   \n",
       "25                          0.0                     0.0               0.0   \n",
       "26                          0.0                     0.0               0.0   \n",
       "27                          0.0                     0.0               0.0   \n",
       "28                          0.0                     0.0               0.0   \n",
       "29                          0.0                     0.0               0.0   \n",
       "...                         ...                     ...               ...   \n",
       "39655                       0.0                     0.0               0.0   \n",
       "39656                       0.0                     0.0               0.0   \n",
       "39657                       0.0                     0.0               0.0   \n",
       "39658                       0.0                     1.0               0.0   \n",
       "39659                       0.0                     0.0               0.0   \n",
       "39660                       0.0                     0.0               0.0   \n",
       "39661                       0.0                     0.0               0.0   \n",
       "39662                       0.0                     0.0               0.0   \n",
       "39663                       0.0                     0.0               1.0   \n",
       "39664                       0.0                     1.0               0.0   \n",
       "39665                       0.0                     1.0               0.0   \n",
       "39666                       0.0                     0.0               0.0   \n",
       "39667                       0.0                     0.0               1.0   \n",
       "39668                       0.0                     0.0               0.0   \n",
       "39669                       0.0                     0.0               0.0   \n",
       "39670                       0.0                     0.0               0.0   \n",
       "39671                       0.0                     0.0               0.0   \n",
       "39672                       0.0                     1.0               0.0   \n",
       "39673                       0.0                     0.0               0.0   \n",
       "39674                       0.0                     0.0               0.0   \n",
       "39675                       0.0                     0.0               0.0   \n",
       "39676                       0.0                     0.0               0.0   \n",
       "39677                       0.0                     0.0               0.0   \n",
       "39678                       0.0                     0.0               0.0   \n",
       "39679                       0.0                     0.0               0.0   \n",
       "39680                       0.0                     0.0               0.0   \n",
       "39681                       0.0                     0.0               0.0   \n",
       "39682                       0.0                     0.0               0.0   \n",
       "39683                       0.0                     0.0               0.0   \n",
       "39684                       0.0                     0.0               0.0   \n",
       "\n",
       "       purpose_wedding  term_ 36 months  term_ 60 months  \n",
       "0                  0.0              1.0              0.0  \n",
       "1                  0.0              0.0              1.0  \n",
       "2                  0.0              1.0              0.0  \n",
       "3                  0.0              1.0              0.0  \n",
       "4                  1.0              1.0              0.0  \n",
       "5                  0.0              0.0              1.0  \n",
       "6                  0.0              1.0              0.0  \n",
       "7                  0.0              0.0              1.0  \n",
       "8                  0.0              0.0              1.0  \n",
       "9                  0.0              0.0              1.0  \n",
       "10                 0.0              1.0              0.0  \n",
       "11                 0.0              1.0              0.0  \n",
       "12                 0.0              1.0              0.0  \n",
       "13                 0.0              1.0              0.0  \n",
       "14                 0.0              1.0              0.0  \n",
       "15                 0.0              1.0              0.0  \n",
       "16                 0.0              1.0              0.0  \n",
       "17                 0.0              1.0              0.0  \n",
       "18                 0.0              1.0              0.0  \n",
       "19                 0.0              0.0              1.0  \n",
       "20                 0.0              1.0              0.0  \n",
       "21                 0.0              1.0              0.0  \n",
       "22                 0.0              1.0              0.0  \n",
       "23                 0.0              1.0              0.0  \n",
       "24                 0.0              1.0              0.0  \n",
       "25                 0.0              1.0              0.0  \n",
       "26                 0.0              0.0              1.0  \n",
       "27                 0.0              1.0              0.0  \n",
       "28                 0.0              1.0              0.0  \n",
       "29                 0.0              1.0              0.0  \n",
       "...                ...              ...              ...  \n",
       "39655              0.0              1.0              0.0  \n",
       "39656              0.0              1.0              0.0  \n",
       "39657              0.0              1.0              0.0  \n",
       "39658              0.0              1.0              0.0  \n",
       "39659              0.0              1.0              0.0  \n",
       "39660              0.0              1.0              0.0  \n",
       "39661              0.0              1.0              0.0  \n",
       "39662              0.0              1.0              0.0  \n",
       "39663              0.0              1.0              0.0  \n",
       "39664              0.0              1.0              0.0  \n",
       "39665              0.0              1.0              0.0  \n",
       "39666              0.0              1.0              0.0  \n",
       "39667              0.0              1.0              0.0  \n",
       "39668              0.0              1.0              0.0  \n",
       "39669              0.0              1.0              0.0  \n",
       "39670              0.0              1.0              0.0  \n",
       "39671              0.0              1.0              0.0  \n",
       "39672              0.0              1.0              0.0  \n",
       "39673              0.0              1.0              0.0  \n",
       "39674              0.0              1.0              0.0  \n",
       "39675              0.0              1.0              0.0  \n",
       "39676              0.0              1.0              0.0  \n",
       "39677              0.0              1.0              0.0  \n",
       "39678              0.0              1.0              0.0  \n",
       "39679              0.0              1.0              0.0  \n",
       "39680              0.0              1.0              0.0  \n",
       "39681              0.0              1.0              0.0  \n",
       "39682              0.0              1.0              0.0  \n",
       "39683              0.0              1.0              0.0  \n",
       "39684              0.0              1.0              0.0  \n",
       "\n",
       "[39685 rows x 37 columns]"
      ]
     },
     "execution_count": 44,
     "metadata": {},
     "output_type": "execute_result"
    }
   ],
   "source": [
    "loan_data"
   ]
  },
  {
   "cell_type": "code",
   "execution_count": 45,
   "metadata": {
    "collapsed": false
   },
   "outputs": [
    {
     "name": "stdout",
     "output_type": "stream",
     "text": [
      "<class 'pandas.core.frame.DataFrame'>\n",
      "RangeIndex: 39685 entries, 0 to 39684\n",
      "Data columns (total 37 columns):\n",
      "loan_amnt                              39685 non-null float64\n",
      "int_rate                               39685 non-null float64\n",
      "installment                            39685 non-null float64\n",
      "annual_inc                             39685 non-null float64\n",
      "loan_status                            39685 non-null int64\n",
      "dti                                    39685 non-null float64\n",
      "delinq_2yrs                            39685 non-null float64\n",
      "inq_last_6mths                         39685 non-null float64\n",
      "open_acc                               39685 non-null float64\n",
      "pub_rec                                39685 non-null float64\n",
      "revol_bal                              39685 non-null float64\n",
      "revol_util                             39685 non-null float64\n",
      "total_acc                              39685 non-null float64\n",
      "home_ownership_MORTGAGE                39685 non-null float64\n",
      "home_ownership_NONE                    39685 non-null float64\n",
      "home_ownership_OTHER                   39685 non-null float64\n",
      "home_ownership_OWN                     39685 non-null float64\n",
      "home_ownership_RENT                    39685 non-null float64\n",
      "verification_status_Not Verified       39685 non-null float64\n",
      "verification_status_Source Verified    39685 non-null float64\n",
      "verification_status_Verified           39685 non-null float64\n",
      "purpose_car                            39685 non-null float64\n",
      "purpose_credit_card                    39685 non-null float64\n",
      "purpose_debt_consolidation             39685 non-null float64\n",
      "purpose_educational                    39685 non-null float64\n",
      "purpose_home_improvement               39685 non-null float64\n",
      "purpose_house                          39685 non-null float64\n",
      "purpose_major_purchase                 39685 non-null float64\n",
      "purpose_medical                        39685 non-null float64\n",
      "purpose_moving                         39685 non-null float64\n",
      "purpose_other                          39685 non-null float64\n",
      "purpose_renewable_energy               39685 non-null float64\n",
      "purpose_small_business                 39685 non-null float64\n",
      "purpose_vacation                       39685 non-null float64\n",
      "purpose_wedding                        39685 non-null float64\n",
      "term_ 36 months                        39685 non-null float64\n",
      "term_ 60 months                        39685 non-null float64\n",
      "dtypes: float64(36), int64(1)\n",
      "memory usage: 11.2 MB\n"
     ]
    }
   ],
   "source": [
    "loan_data.info()"
   ]
  },
  {
   "cell_type": "markdown",
   "metadata": {},
   "source": [
    "### Evaluation Benchmark And Error Metrics\n",
    "We talked about the need of a conservative evaluation of the default rate. We must also keep in mind that there is a strong imbalance with the target category of loan repayment in the dataset, because about 6 out of 7 loans are repaid. Meaning that we could lend money all the time (always predicting that the borrower would repay) and be right about 85.71% of the time that the loan would be repaid, but that would mean that the model would not be profitable. Say we lend \\$1000 at 10% interest, we would expect a return of \\$100 on each loan. But if we run the experiment 7 times, we would earn \\$600 (6 x \\$100) and lose \\$1000 (the defaulter), we are left with a \\$400 loss. Hardly a profitable enterprise. The benchmark needs to encompass the weight of the defaulter and the optimization between the true positive rate (good borrowers) and the false positive rate (bad borrowers). This implies that we need to ensure a viable machine learning model and predict a higher percentage of potential defaulters in order to avoid lending to them. The benchmark must beat the 85.71% average loan repayment. Although “money is left on the table”, a conservative investor would prefer a steady return on her investment than suffer the 1 in 7 loss. "
   ]
  },
  {
   "cell_type": "markdown",
   "metadata": {},
   "source": [
    "In the markdown cell above, we talked about the class imbalance and that it could lead to an unprofitable model. If we were to lend to all borrowers, we would most likely lose 1 in 7 times and take a larger loss in that one time than in the 6 others' interest. In the code below, we check the true positive and false positive rate."
   ]
  },
  {
   "cell_type": "code",
   "execution_count": 96,
   "metadata": {
    "collapsed": false
   },
   "outputs": [
    {
     "name": "stdout",
     "output_type": "stream",
     "text": [
      "1.0\n",
      "1.0\n"
     ]
    }
   ],
   "source": [
    "predictions = pd.Series(np.ones(loan_data.shape[0]))\n",
    "\n",
    "false_positive_filter = (predictions == 1) & (loan_data['loan_status'] == 0)\n",
    "false_positive = len(predictions[false_positive_filter])\n",
    "\n",
    "true_positive_filter = (predictions == 1) & (loan_data['loan_status'] == 1)\n",
    "true_positive = len(predictions[true_positive_filter])\n",
    "\n",
    "false_negative_filter = (predictions == 0) & (loan_data['loan_status'] == 1)\n",
    "false_negative = len(predictions[false_negative_filter])\n",
    "\n",
    "true_negative_filter = (predictions == 0) & (loan_data['loan_status'] == 0)\n",
    "true_negative = len(predictions[true_negative_filter])\n",
    "\n",
    "true_positive_rate = true_positive / (true_positive + false_negative)\n",
    "false_positive_rate = false_positive / (false_positive + true_negative)\n",
    "\n",
    "print float(true_positive_rate) \n",
    "print float(false_positive_rate)"
   ]
  },
  {
   "cell_type": "code",
   "execution_count": 97,
   "metadata": {
    "collapsed": false
   },
   "outputs": [
    {
     "data": {
      "text/plain": [
       "1.0"
      ]
     },
     "execution_count": 97,
     "metadata": {},
     "output_type": "execute_result"
    }
   ],
   "source": [
    "accuracy = float(true_positive + false_positive)/float(true_positive + false_positive+ false_negative + true_negative)\n",
    "accuracy"
   ]
  },
  {
   "cell_type": "code",
   "execution_count": 98,
   "metadata": {
    "collapsed": false
   },
   "outputs": [
    {
     "data": {
      "text/plain": [
       "0.8578052160766032"
      ]
     },
     "execution_count": 98,
     "metadata": {},
     "output_type": "execute_result"
    }
   ],
   "source": [
    "precision = float(true_positive)/float(true_positive + false_positive)\n",
    "precision"
   ]
  },
  {
   "cell_type": "code",
   "execution_count": 100,
   "metadata": {
    "collapsed": false
   },
   "outputs": [
    {
     "data": {
      "text/plain": [
       "0.5"
      ]
     },
     "execution_count": 100,
     "metadata": {},
     "output_type": "execute_result"
    }
   ],
   "source": [
    "sensitivity = float(true_positive)/float(true_positive+false_negative)\n",
    "specificity = float(true_negative)/float(false_positive+true_negative)\n",
    "bal_acc =  (sensitivity + specificity)/2\n",
    "bal_acc"
   ]
  },
  {
   "cell_type": "markdown",
   "metadata": {},
   "source": [
    "We got 100% of the true positive loans but also 100% or the false positive because we predicted that all loans would be paid off. As a reminder, the pie chart below is a different way to visualize the class imbalance on the dataset. "
   ]
  },
  {
   "cell_type": "code",
   "execution_count": 101,
   "metadata": {
    "collapsed": false
   },
   "outputs": [
    {
     "data": {
      "image/png": "[encoded data removed]",
      "text/plain": [
       "<matplotlib.figure.Figure at 0x7f890619e910>"
      ]
     },
     "metadata": {},
     "output_type": "display_data"
    }
   ],
   "source": [
    " # Data to plot\n",
    "labels = 'False Positive', 'True Positive'\n",
    "sizes = [false_positive, true_positive]\n",
    "colors = ['lightcoral', 'lightgrey'] \n",
    "# Plot\n",
    "plt.figure(figsize=(4,4))\n",
    "plt.pie(sizes, colors=colors, autopct='%1.2f%%', shadow=False, startangle=0)\n",
    "plt.title('Ratio of True Positive and False Negative', fontsize=12) \n",
    "plt.legend(labels, loc='lower left', fontsize=10)\n",
    "plt.axis('equal')\n",
    "plt.show()"
   ]
  },
  {
   "cell_type": "markdown",
   "metadata": {},
   "source": [
    "### Logistic Regression Classification"
   ]
  },
  {
   "cell_type": "markdown",
   "metadata": {},
   "source": [
    "Let's try to improve the predictions with logistic regression. "
   ]
  },
  {
   "cell_type": "code",
   "execution_count": 102,
   "metadata": {
    "collapsed": false
   },
   "outputs": [],
   "source": [
    "from sklearn.linear_model import LogisticRegression\n",
    "lr = LogisticRegression()\n",
    "\n",
    "cols = loan_data.columns\n",
    "train_cols = cols.drop('loan_status')\n",
    "\n",
    "features = loan_data[train_cols]\n",
    "\n",
    "target = loan_data['loan_status']\n",
    "\n",
    "lr.fit(features, target)\n",
    "predictions = lr.predict(features)"
   ]
  },
  {
   "cell_type": "markdown",
   "metadata": {},
   "source": [
    "The previous predictions are overfitting, we need to cross-validate them."
   ]
  },
  {
   "cell_type": "code",
   "execution_count": 103,
   "metadata": {
    "collapsed": false
   },
   "outputs": [],
   "source": [
    "from sklearn.cross_validation import cross_val_predict, KFold\n",
    "lr = LogisticRegression()\n",
    "kf = KFold(features.shape[0], random_state=42)\n",
    "predictions = cross_val_predict(lr, features, target, cv=kf)\n",
    "predictions = pd.Series(predictions)"
   ]
  },
  {
   "cell_type": "code",
   "execution_count": 104,
   "metadata": {
    "collapsed": false
   },
   "outputs": [
    {
     "name": "stdout",
     "output_type": "stream",
     "text": [
      "0.999236237589\n",
      "0.998759525075\n"
     ]
    }
   ],
   "source": [
    "false_positive_filter = (predictions == 1) & (loan_data['loan_status'] == 0)\n",
    "false_positive = len(predictions[false_positive_filter])\n",
    "\n",
    "true_positive_filter = (predictions == 1) & (loan_data['loan_status'] == 1)\n",
    "true_positive = len(predictions[true_positive_filter])\n",
    "\n",
    "false_negative_filter = (predictions == 0) & (loan_data['loan_status'] == 1)\n",
    "false_negative = len(predictions[false_negative_filter])\n",
    "\n",
    "true_negative_filter = (predictions == 0) & (loan_data['loan_status'] == 0)\n",
    "true_negative = len(predictions[true_negative_filter])\n",
    "\n",
    "true_positive_rate = float(true_positive)/float((true_positive + false_negative))\n",
    "false_positive_rate = float(false_positive)/float((false_positive + true_negative))\n",
    "\n",
    "print float(true_positive_rate) \n",
    "print float(false_positive_rate)"
   ]
  },
  {
   "cell_type": "code",
   "execution_count": 105,
   "metadata": {
    "collapsed": false
   },
   "outputs": [
    {
     "data": {
      "text/plain": [
       "0.8578634116816302"
      ]
     },
     "execution_count": 105,
     "metadata": {},
     "output_type": "execute_result"
    }
   ],
   "source": [
    "precision = float(true_positive)/float(true_positive + false_positive)\n",
    "precision"
   ]
  },
  {
   "cell_type": "code",
   "execution_count": 106,
   "metadata": {
    "collapsed": false
   },
   "outputs": [
    {
     "data": {
      "text/plain": [
       "0.9991684515560035"
      ]
     },
     "execution_count": 106,
     "metadata": {},
     "output_type": "execute_result"
    }
   ],
   "source": [
    "accuracy = float(true_positive + false_positive)/float(true_positive + false_positive+ false_negative + true_negative)\n",
    "accuracy"
   ]
  },
  {
   "cell_type": "code",
   "execution_count": 107,
   "metadata": {
    "collapsed": false
   },
   "outputs": [
    {
     "data": {
      "text/plain": [
       "0.5002383562567732"
      ]
     },
     "execution_count": 107,
     "metadata": {},
     "output_type": "execute_result"
    }
   ],
   "source": [
    "sensitivity = float(true_positive)/float(true_positive+false_negative)\n",
    "specificity = float(true_negative)/float(false_positive+true_negative)\n",
    "bal_acc =  (sensitivity + specificity)/2\n",
    "bal_acc"
   ]
  },
  {
   "cell_type": "markdown",
   "metadata": {},
   "source": [
    "We are still getting a abnormaly high number, which means the model is still predicting that all the loans will be paid off."
   ]
  },
  {
   "cell_type": "markdown",
   "metadata": {},
   "source": [
    "### Weighting Errors To Improve Performance\n",
    "We will add weight to mistakes in order to penalize the model when it overfits, that way we can improve the performance of the model."
   ]
  },
  {
   "cell_type": "code",
   "execution_count": 108,
   "metadata": {
    "collapsed": false
   },
   "outputs": [
    {
     "name": "stdout",
     "output_type": "stream",
     "text": [
      "0.667381469949\n",
      "0.398546872231\n"
     ]
    }
   ],
   "source": [
    "lr = LogisticRegression(class_weight=\"balanced\")\n",
    "kf = KFold(features.shape[0], random_state=1)\n",
    "predictions = cross_val_predict(lr, features, target, cv=kf)\n",
    "predictions = pd.Series(predictions)\n",
    "\n",
    "\n",
    "false_positive_filter = (predictions == 1) & (loan_data['loan_status'] == 0)\n",
    "false_positive = len(predictions[false_positive_filter])\n",
    "\n",
    "true_positive_filter = (predictions == 1) & (loan_data['loan_status'] == 1)\n",
    "true_positive = len(predictions[true_positive_filter])\n",
    "\n",
    "false_negative_filter = (predictions == 0) & (loan_data['loan_status'] == 1)\n",
    "false_negative = len(predictions[false_negative_filter])\n",
    "\n",
    "true_negative_filter = (predictions == 0) & (loan_data['loan_status'] == 0)\n",
    "true_negative = len(predictions[true_negative_filter])\n",
    "\n",
    "true_positive_rate = float(true_positive)/float((true_positive + false_negative))\n",
    "false_positive_rate = float(false_positive)/float((false_positive + true_negative))\n",
    "\n",
    "print float(true_positive_rate) \n",
    "print float(false_positive_rate)"
   ]
  },
  {
   "cell_type": "code",
   "execution_count": 109,
   "metadata": {
    "collapsed": false
   },
   "outputs": [
    {
     "data": {
      "text/plain": [
       "0.6291545924152703"
      ]
     },
     "execution_count": 109,
     "metadata": {},
     "output_type": "execute_result"
    }
   ],
   "source": [
    "accuracy = float(true_positive + false_positive)/float(true_positive + false_positive+ false_negative + true_negative)\n",
    "accuracy"
   ]
  },
  {
   "cell_type": "code",
   "execution_count": 110,
   "metadata": {
    "collapsed": false
   },
   "outputs": [
    {
     "data": {
      "text/plain": [
       "0.9099247036206344"
      ]
     },
     "execution_count": 110,
     "metadata": {},
     "output_type": "execute_result"
    }
   ],
   "source": [
    "precision = float(true_positive)/float(true_positive + false_positive)\n",
    "precision"
   ]
  },
  {
   "cell_type": "code",
   "execution_count": 111,
   "metadata": {
    "collapsed": false
   },
   "outputs": [
    {
     "data": {
      "text/plain": [
       "0.634417298858902"
      ]
     },
     "execution_count": 111,
     "metadata": {},
     "output_type": "execute_result"
    }
   ],
   "source": [
    "sensitivity = float(true_positive)/float(true_positive+false_negative)\n",
    "specificity = float(true_negative)/float(false_positive+true_negative)\n",
    "bal_acc =  (sensitivity + specificity)/2\n",
    "bal_acc"
   ]
  },
  {
   "cell_type": "markdown",
   "metadata": {},
   "source": [
    "By weighting the algorithm we went from 99.87% of false positive to 39.85%. This is a good divergence."
   ]
  },
  {
   "cell_type": "code",
   "execution_count": 112,
   "metadata": {
    "collapsed": false
   },
   "outputs": [],
   "source": [
    "from sklearn.linear_model import LogisticRegression\n",
    "from sklearn.cross_validation import cross_val_predict\n",
    "\n",
    "cross_val_predict, KFold\n",
    "\n",
    "penalty = {0: 10,\n",
    "           1: 1\n",
    "          }\n",
    "\n",
    "lr = LogisticRegression(class_weight=penalty)\n",
    "kf = KFold(features.shape[0], random_state=42)\n",
    "predictions = cross_val_predict(lr, features, target, cv= kf)\n",
    "predictions = pd.Series(predictions)"
   ]
  },
  {
   "cell_type": "code",
   "execution_count": 113,
   "metadata": {
    "collapsed": false
   },
   "outputs": [
    {
     "name": "stdout",
     "output_type": "stream",
     "text": [
      "0.22660243229\n",
      "0.0785043416622\n"
     ]
    }
   ],
   "source": [
    "false_positive_filter = (predictions == 1) & (loan_data['loan_status'] == 0)\n",
    "false_positive = len(predictions[false_positive_filter])\n",
    "\n",
    "true_positive_filter = (predictions == 1) & (loan_data['loan_status'] == 1)\n",
    "true_positive = len(predictions[true_positive_filter])\n",
    "\n",
    "false_negative_filter = (predictions == 0) & (loan_data['loan_status'] == 1)\n",
    "false_negative = len(predictions[false_negative_filter])\n",
    "\n",
    "true_negative_filter = (predictions == 0) & (loan_data['loan_status'] == 0)\n",
    "true_negative = len(predictions[true_negative_filter])\n",
    "\n",
    "true_positive_rate = float(true_positive)/float((true_positive + false_negative))\n",
    "false_positive_rate = float(false_positive)/float((false_positive + true_negative))\n",
    "\n",
    "print float(true_positive_rate) \n",
    "print float(false_positive_rate)"
   ]
  },
  {
   "cell_type": "code",
   "execution_count": 114,
   "metadata": {
    "collapsed": false
   },
   "outputs": [
    {
     "data": {
      "text/plain": [
       "0.9456908177025868"
      ]
     },
     "execution_count": 114,
     "metadata": {},
     "output_type": "execute_result"
    }
   ],
   "source": [
    "precision = float(true_positive)/float(true_positive + false_positive)\n",
    "precision"
   ]
  },
  {
   "cell_type": "code",
   "execution_count": 115,
   "metadata": {
    "collapsed": false
   },
   "outputs": [
    {
     "data": {
      "text/plain": [
       "5200"
      ]
     },
     "execution_count": 115,
     "metadata": {},
     "output_type": "execute_result"
    }
   ],
   "source": [
    "true_negative"
   ]
  },
  {
   "cell_type": "code",
   "execution_count": 116,
   "metadata": {
    "collapsed": false
   },
   "outputs": [
    {
     "data": {
      "text/plain": [
       "0.2055436562933098"
      ]
     },
     "execution_count": 116,
     "metadata": {},
     "output_type": "execute_result"
    }
   ],
   "source": [
    "accuracy = float(true_positive + false_positive)/float(true_positive + false_positive + false_negative + true_negative)\n",
    "accuracy"
   ]
  },
  {
   "cell_type": "code",
   "execution_count": 117,
   "metadata": {
    "collapsed": false
   },
   "outputs": [
    {
     "data": {
      "text/plain": [
       "0.9456908177025868"
      ]
     },
     "execution_count": 117,
     "metadata": {},
     "output_type": "execute_result"
    }
   ],
   "source": [
    "precision = float(true_positive)/float(true_positive + false_positive)\n",
    "precision"
   ]
  },
  {
   "cell_type": "code",
   "execution_count": 118,
   "metadata": {
    "collapsed": false
   },
   "outputs": [
    {
     "data": {
      "text/plain": [
       "0.5740490453136442"
      ]
     },
     "execution_count": 118,
     "metadata": {},
     "output_type": "execute_result"
    }
   ],
   "source": [
    "sensitivity = float(true_positive)/float(true_positive+false_negative)\n",
    "specificity = float(true_negative)/float(false_positive+true_negative)\n",
    "bal_acc =  (sensitivity + specificity)/2\n",
    "bal_acc"
   ]
  },
  {
   "cell_type": "markdown",
   "metadata": {},
   "source": [
    "### Try Random Forest\n",
    "We try to fit the data with the random forest classifier of scikit-learn in order to increase the performance of our model. \n"
   ]
  },
  {
   "cell_type": "code",
   "execution_count": 119,
   "metadata": {
    "collapsed": false
   },
   "outputs": [],
   "source": [
    "from sklearn.ensemble import RandomForestClassifier\n",
    "from sklearn.cross_validation import cross_val_predict\n",
    "\n",
    "rf = RandomForestClassifier(class_weight=\"balanced\", random_state=1)\n",
    "kf = KFold(features.shape[0], random_state=42)\n",
    "\n",
    "predictions = cross_val_predict(rf, features, target, cv=kf)\n",
    "predictions = pd.Series(predictions)"
   ]
  },
  {
   "cell_type": "code",
   "execution_count": 120,
   "metadata": {
    "collapsed": false
   },
   "outputs": [
    {
     "name": "stdout",
     "output_type": "stream",
     "text": [
      "0.974942717819\n",
      "0.937267410952\n"
     ]
    }
   ],
   "source": [
    "false_positive_filter = (predictions == 1) & (loan_data['loan_status'] == 0)\n",
    "false_positive = len(predictions[false_positive_filter])\n",
    "\n",
    "true_positive_filter = (predictions == 1) & (loan_data['loan_status'] == 1)\n",
    "true_positive = len(predictions[true_positive_filter])\n",
    "\n",
    "false_negative_filter = (predictions == 0) & (loan_data['loan_status'] == 1)\n",
    "false_negative = len(predictions[false_negative_filter])\n",
    "\n",
    "true_negative_filter = (predictions == 0) & (loan_data['loan_status'] == 0)\n",
    "true_negative = len(predictions[true_negative_filter])\n",
    "\n",
    "true_positive_rate = float(true_positive)/float((true_positive + false_negative))\n",
    "false_positive_rate = float(false_positive)/float((false_positive + true_negative))\n",
    "\n",
    "print float(true_positive_rate) \n",
    "print float(false_positive_rate)"
   ]
  },
  {
   "cell_type": "code",
   "execution_count": 121,
   "metadata": {
    "collapsed": false
   },
   "outputs": [
    {
     "data": {
      "text/plain": [
       "0.9695854856998866"
      ]
     },
     "execution_count": 121,
     "metadata": {},
     "output_type": "execute_result"
    }
   ],
   "source": [
    "accuracy = float(true_positive + false_positive)/float(true_positive + false_positive+ false_negative + true_negative)\n",
    "accuracy"
   ]
  },
  {
   "cell_type": "code",
   "execution_count": 122,
   "metadata": {
    "collapsed": false
   },
   "outputs": [
    {
     "data": {
      "text/plain": [
       "0.8625448308124123"
      ]
     },
     "execution_count": 122,
     "metadata": {},
     "output_type": "execute_result"
    }
   ],
   "source": [
    "precision = float(true_positive)/float(true_positive + false_positive)\n",
    "precision"
   ]
  },
  {
   "cell_type": "code",
   "execution_count": 123,
   "metadata": {
    "collapsed": false
   },
   "outputs": [
    {
     "data": {
      "text/plain": [
       "0.5188376534337715"
      ]
     },
     "execution_count": 123,
     "metadata": {},
     "output_type": "execute_result"
    }
   ],
   "source": [
    "sensitivity = float(true_positive)/float(true_positive+false_negative)\n",
    "specificity = float(true_negative)/float(false_positive+true_negative)\n",
    "bal_acc =  (sensitivity + specificity)/2\n",
    "bal_acc"
   ]
  },
  {
   "cell_type": "markdown",
   "metadata": {},
   "source": [
    "## V. Conclusion\n",
    "### Improvement\n",
    "Different classification algorithms such as XGBoost, or even different machine learning architecture such as neural networks could provide better results. In at least one known case, it has be used by a FinTech company such as Underwrite.ai. Deep learning can be another way to discover and push the boundaries of what is possible in predicting the outcome of loans. Along with different algorithms, we could create more features, as the team at Stanford did with the zip code and U.S. census data. We could as well ensemble models (Raschka…) to make better predictions.\n",
    "\n",
    "On a side note, relaxing the strict requirements could help capturing the false negative market and that could lead to better profitability to the bank that finds a way. This is on the business side and not on the machine learning side, but nonetheless, business problems are a driver in the implementation and deployment of machine learning models. Being able to serve this under-served niche would open opportunities to those customers and potentially increase the profit margin as it had been shown by the Grameen Bank. Machine learning can, in many ways, help us discover hidden value in the world. "
   ]
  },
  {
   "cell_type": "code",
   "execution_count": null,
   "metadata": {
    "collapsed": true
   },
   "outputs": [],
   "source": []
  }
 ],
 "metadata": {
  "anaconda-cloud": {},
  "kernelspec": {
   "display_name": "Python [py27]",
   "language": "python",
   "name": "Python [py27]"
  },
  "language_info": {
   "codemirror_mode": {
    "name": "ipython",
    "version": 2
   },
   "file_extension": ".py",
   "mimetype": "text/x-python",
   "name": "python",
   "nbconvert_exporter": "python",
   "pygments_lexer": "ipython2",
   "version": "2.7.12"
  }
 },
 "nbformat": 4,
 "nbformat_minor": 0
}
